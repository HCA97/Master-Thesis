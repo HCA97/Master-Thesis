{
 "cells": [
  {
   "cell_type": "code",
   "execution_count": 12,
   "id": "8dbd622d",
   "metadata": {},
   "outputs": [],
   "source": [
    "import os\n",
    "\n",
    "import lpips\n",
    "import torch as th\n",
    "import torch.nn as nn\n",
    "from torch.utils.data import DataLoader, TensorDataset\n",
    "import torchvision\n",
    "import numpy as np\n",
    "import matplotlib.pyplot as plt\n",
    "import cv2\n",
    "\n",
    "from scripts import *"
   ]
  },
  {
   "cell_type": "code",
   "execution_count": 13,
   "id": "dd1d7c87",
   "metadata": {},
   "outputs": [],
   "source": [
    "checkpoint_dir = \"experiments/dataaug_all/lightning_logs/version_2/checkpoints/epoch=449.ckpt\"\n",
    "save_path = \"experiments/ganinversion\""
   ]
  },
  {
   "cell_type": "code",
   "execution_count": 41,
   "id": "8ee08219",
   "metadata": {
    "scrolled": true
   },
   "outputs": [
    {
     "data": {
      "text/plain": [
       "GAN(\n",
       "  (generator): BasicGenerator(\n",
       "    (l1): Linear(in_features=100, out_features=4096, bias=True)\n",
       "    (conv_blocks): Sequential(\n",
       "      (0): BatchNorm2d(512, eps=1e-05, momentum=0.1, affine=True, track_running_stats=True)\n",
       "      (1): Upsample(scale_factor=2.0, mode=nearest)\n",
       "      (2): ConvBlock(\n",
       "        (conv_block): ModuleList(\n",
       "          (0): Conv2d(512, 512, kernel_size=(3, 3), stride=(1, 1), padding=(1, 1), bias=False)\n",
       "          (1): BatchNorm2d(512, eps=0.8, momentum=0.1, affine=True, track_running_stats=True)\n",
       "          (2): LeakyReLU(negative_slope=0.2, inplace=True)\n",
       "        )\n",
       "      )\n",
       "      (3): Upsample(scale_factor=2.0, mode=nearest)\n",
       "      (4): ConvBlock(\n",
       "        (conv_block): ModuleList(\n",
       "          (0): Conv2d(512, 256, kernel_size=(3, 3), stride=(1, 1), padding=(1, 1), bias=False)\n",
       "          (1): BatchNorm2d(256, eps=0.8, momentum=0.1, affine=True, track_running_stats=True)\n",
       "          (2): LeakyReLU(negative_slope=0.2, inplace=True)\n",
       "        )\n",
       "      )\n",
       "      (5): Upsample(scale_factor=2.0, mode=nearest)\n",
       "      (6): ConvBlock(\n",
       "        (conv_block): ModuleList(\n",
       "          (0): Conv2d(256, 128, kernel_size=(3, 3), stride=(1, 1), padding=(1, 1), bias=False)\n",
       "          (1): BatchNorm2d(128, eps=0.8, momentum=0.1, affine=True, track_running_stats=True)\n",
       "          (2): LeakyReLU(negative_slope=0.2, inplace=True)\n",
       "        )\n",
       "      )\n",
       "      (7): Upsample(scale_factor=2.0, mode=nearest)\n",
       "      (8): ConvBlock(\n",
       "        (conv_block): ModuleList(\n",
       "          (0): Conv2d(128, 64, kernel_size=(3, 3), stride=(1, 1), padding=(1, 1), bias=False)\n",
       "          (1): BatchNorm2d(64, eps=0.8, momentum=0.1, affine=True, track_running_stats=True)\n",
       "          (2): LeakyReLU(negative_slope=0.2, inplace=True)\n",
       "        )\n",
       "      )\n",
       "      (9): ConvBlock(\n",
       "        (conv_block): ModuleList(\n",
       "          (0): Conv2d(64, 3, kernel_size=(3, 3), stride=(1, 1), padding=(1, 1))\n",
       "          (1): Tanh()\n",
       "        )\n",
       "      )\n",
       "    )\n",
       "  )\n",
       "  (discriminator): BasicDiscriminator(\n",
       "    (conv_blocks): Sequential(\n",
       "      (0): ConvBlock(\n",
       "        (conv_block): ModuleList(\n",
       "          (0): Conv2d(3, 32, kernel_size=(3, 3), stride=(2, 2), padding=(1, 1))\n",
       "          (1): LeakyReLU(negative_slope=0.2, inplace=True)\n",
       "          (2): Dropout2d(p=0.25, inplace=False)\n",
       "        )\n",
       "      )\n",
       "      (1): ConvBlock(\n",
       "        (conv_block): ModuleList(\n",
       "          (0): Conv2d(32, 64, kernel_size=(3, 3), stride=(2, 2), padding=(1, 1), bias=False)\n",
       "          (1): BatchNorm2d(64, eps=0.8, momentum=0.1, affine=True, track_running_stats=True)\n",
       "          (2): LeakyReLU(negative_slope=0.2, inplace=True)\n",
       "          (3): Dropout2d(p=0.25, inplace=False)\n",
       "        )\n",
       "      )\n",
       "      (2): ConvBlock(\n",
       "        (conv_block): ModuleList(\n",
       "          (0): Conv2d(64, 128, kernel_size=(3, 3), stride=(2, 2), padding=(1, 1), bias=False)\n",
       "          (1): BatchNorm2d(128, eps=0.8, momentum=0.1, affine=True, track_running_stats=True)\n",
       "          (2): LeakyReLU(negative_slope=0.2, inplace=True)\n",
       "          (3): Dropout2d(p=0.25, inplace=False)\n",
       "        )\n",
       "      )\n",
       "      (3): ConvBlock(\n",
       "        (conv_block): ModuleList(\n",
       "          (0): Conv2d(128, 256, kernel_size=(3, 3), stride=(2, 2), padding=(1, 1), bias=False)\n",
       "          (1): BatchNorm2d(256, eps=0.8, momentum=0.1, affine=True, track_running_stats=True)\n",
       "          (2): LeakyReLU(negative_slope=0.2, inplace=True)\n",
       "          (3): Dropout2d(p=0.25, inplace=False)\n",
       "        )\n",
       "      )\n",
       "    )\n",
       "    (l1): Sequential(\n",
       "      (0): Linear(in_features=2048, out_features=1, bias=True)\n",
       "      (1): Sigmoid()\n",
       "    )\n",
       "  )\n",
       "  (criterion): BCELoss()\n",
       ")"
      ]
     },
     "execution_count": 41,
     "metadata": {},
     "output_type": "execute_result"
    }
   ],
   "source": [
    "# load model\n",
    "model = GAN.load_from_checkpoint(checkpoint_dir)\n",
    "model.eval()\n",
    "model.cuda()"
   ]
  },
  {
   "cell_type": "code",
   "execution_count": 42,
   "id": "7cc6aaa7",
   "metadata": {},
   "outputs": [],
   "source": [
    "# load cars\n",
    "r, c = 32, 64\n",
    "cars = np.load(\"../potsdam_data/potsdam_cars/cars.npy\", allow_pickle=True)\n",
    "\n",
    "cars_resized = []\n",
    "for car in cars:\n",
    "    car = cv2.cvtColor(car, cv2.COLOR_RGB2BGR)\n",
    "    car_resized = cv2.resize(car, (c, r)).transpose(2, 0, 1).astype(np.float32)\n",
    "    cars_resized.append(2*(car_resized / 255) - 1)"
   ]
  },
  {
   "cell_type": "code",
   "execution_count": 43,
   "id": "4bc462b1",
   "metadata": {},
   "outputs": [
    {
     "name": "stdout",
     "output_type": "stream",
     "text": [
      "Setting up [LPIPS] perceptual loss: trunk [vgg], v[0.1], spatial [off]\n",
      "Loading model from: /home/hca/Documents/Master/Thesis/Master-Thesis/.env/lib/python3.8/site-packages/lpips/weights/v0.1/vgg.pth\n",
      "iteration  0 loss 0.47334372997283936\n",
      "iteration  10 loss 0.4974744915962219\n",
      "iteration  20 loss 0.4751337468624115\n",
      "iteration  30 loss 0.4556773602962494\n",
      "iteration  40 loss 0.44263455271720886\n",
      "iteration  50 loss 0.42834174633026123\n",
      "iteration  60 loss 0.4114139676094055\n",
      "iteration  70 loss 0.3983127176761627\n",
      "iteration  80 loss 0.39094769954681396\n",
      "iteration  90 loss 0.3849659562110901\n",
      "iteration  100 loss 0.3838147819042206\n",
      "iteration  110 loss 0.3831580579280853\n",
      "iteration  120 loss 0.3824719190597534\n",
      "iteration  130 loss 0.3818231225013733\n",
      "iteration  140 loss 0.38121870160102844\n",
      "iteration  150 loss 0.3806025981903076\n",
      "iteration  160 loss 0.3800335228443146\n",
      "iteration  170 loss 0.3794948160648346\n",
      "iteration  180 loss 0.3789827227592468\n",
      "iteration  190 loss 0.37887832522392273\n",
      "iteration  200 loss 0.37881964445114136\n",
      "iteration  210 loss 0.3787611126899719\n",
      "iteration  220 loss 0.3787020146846771\n",
      "iteration  230 loss 0.37864217162132263\n",
      "iteration  240 loss 0.3785814642906189\n",
      "iteration  250 loss 0.3785179555416107\n",
      "iteration  260 loss 0.37844905257225037\n",
      "iteration  270 loss 0.37837380170822144\n",
      "iteration  280 loss 0.3783593773841858\n",
      "iteration  290 loss 0.3783515393733978\n",
      "iteration  300 loss 0.37834346294403076\n",
      "iteration  310 loss 0.378335565328598\n",
      "iteration  320 loss 0.37832751870155334\n",
      "iteration  330 loss 0.37831947207450867\n",
      "iteration  340 loss 0.3783114552497864\n",
      "iteration  350 loss 0.37830325961112976\n",
      "iteration  360 loss 0.378294974565506\n",
      "iteration  370 loss 0.37829339504241943\n",
      "iteration  380 loss 0.3782925009727478\n",
      "iteration  390 loss 0.37829166650772095\n",
      "iteration  400 loss 0.37829074263572693\n",
      "iteration  410 loss 0.3782898783683777\n",
      "iteration  420 loss 0.37828898429870605\n",
      "iteration  430 loss 0.3782879710197449\n",
      "iteration  440 loss 0.37828707695007324\n",
      "iteration  450 loss 0.378286212682724\n",
      "iteration  460 loss 0.3782859444618225\n",
      "iteration  470 loss 0.37828582525253296\n",
      "iteration  480 loss 0.3782857358455658\n",
      "iteration  490 loss 0.3782857060432434\n",
      "iteration  500 loss 0.37828555703163147\n",
      "iteration  510 loss 0.3782854676246643\n",
      "iteration  520 loss 0.37828537821769714\n",
      "iteration  530 loss 0.3782852292060852\n",
      "iteration  540 loss 0.37828513979911804\n",
      "iteration  550 loss 0.37828516960144043\n",
      "iteration  560 loss 0.37828516960144043\n",
      "iteration  570 loss 0.37828513979911804\n",
      "iteration  580 loss 0.37828513979911804\n",
      "iteration  590 loss 0.37828516960144043\n",
      "iteration  600 loss 0.37828516960144043\n",
      "iteration  610 loss 0.37828510999679565\n",
      "iteration  620 loss 0.37828508019447327\n",
      "iteration  630 loss 0.37828510999679565\n",
      "iteration  640 loss 0.37828510999679565\n",
      "iteration  650 loss 0.37828510999679565\n",
      "iteration  660 loss 0.3782850503921509\n",
      "iteration  670 loss 0.37828508019447327\n",
      "iteration  680 loss 0.37828510999679565\n",
      "iteration  690 loss 0.3782850503921509\n",
      "iteration  700 loss 0.37828510999679565\n",
      "iteration  710 loss 0.3782850503921509\n",
      "iteration  720 loss 0.37828508019447327\n",
      "iteration  730 loss 0.37828508019447327\n",
      "iteration  740 loss 0.37828508019447327\n",
      "iteration  750 loss 0.37828508019447327\n",
      "iteration  760 loss 0.37828508019447327\n",
      "iteration  770 loss 0.37828508019447327\n",
      "iteration  780 loss 0.37828508019447327\n",
      "iteration  790 loss 0.37828508019447327\n",
      "iteration  800 loss 0.37828508019447327\n",
      "iteration  810 loss 0.37828508019447327\n",
      "iteration  820 loss 0.37828508019447327\n",
      "iteration  830 loss 0.37828508019447327\n",
      "iteration  840 loss 0.37828508019447327\n",
      "iteration  850 loss 0.37828508019447327\n",
      "iteration  860 loss 0.37828508019447327\n",
      "iteration  870 loss 0.37828508019447327\n",
      "iteration  880 loss 0.37828508019447327\n",
      "iteration  890 loss 0.37828508019447327\n"
     ]
    }
   ],
   "source": [
    "class Lambda(nn.Module):\n",
    "    def __init__(self, func):\n",
    "        super().__init__()\n",
    "        self.func = func\n",
    " \n",
    "    def forward(self, x):\n",
    "        return self.func(x)\n",
    "\n",
    "# find best z vector\n",
    "for param in model.generator.parameters():\n",
    "    param.requires_grad = False\n",
    "    \n",
    "latent_dim =  model.generator.latent_dim\n",
    "gan_inversion = nn.Sequential(nn.Linear(1, latent_dim, bias=False), \n",
    "                              Lambda(lambda x: x.reshape(1, latent_dim)),  \n",
    "                              model.generator)\n",
    "\n",
    "max_iterations = 900\n",
    "x_orig = th.unsqueeze(th.tensor(cars_resized[0]), axis=0)\n",
    "gan_inversion.cuda()\n",
    "optimizer = th.optim.Adam(gan_inversion.parameters(), lr=1)\n",
    "loss = lpips.LPIPS(net='vgg').cuda()\n",
    "\n",
    "gan_inversion.train()\n",
    "learning_curve= []\n",
    "for i in range(max_iterations):\n",
    "    \n",
    "    optimizer.zero_grad()\n",
    "    x_rec = gan_inversion.forward(th.ones(1).cuda())\n",
    "    output = loss(x_orig.cuda(), x_rec)\n",
    "    l = output.item()\n",
    "    output.backward()\n",
    "    optimizer.step()\n",
    "    \n",
    "    learning_curve.append(l)\n",
    "    if i % 10 == 0:\n",
    "        print(\"iteration \", i, \"loss\", l )\n",
    "    \n",
    "    if i % 90 == 0:\n",
    "        for g in optimizer.param_groups:\n",
    "            g['lr'] = g['lr']*0.1"
   ]
  },
  {
   "cell_type": "code",
   "execution_count": 44,
   "id": "7e88addb",
   "metadata": {},
   "outputs": [
    {
     "data": {
      "text/plain": [
       "([], [])"
      ]
     },
     "execution_count": 44,
     "metadata": {},
     "output_type": "execute_result"
    },
    {
     "data": {
      "image/png": "[encoded data removed]",
      "text/plain": [
       "<Figure size 576x576 with 2 Axes>"
      ]
     },
     "metadata": {},
     "output_type": "display_data"
    }
   ],
   "source": [
    "# rescale\n",
    "x_rec_ = (np.squeeze(x_rec.detach().cpu().numpy()).transpose(1, 2, 0) + 1) / 2\n",
    "x_orig_ = (np.squeeze(x_orig.detach().cpu().numpy()).transpose(1, 2, 0) + 1) / 2\n",
    "\n",
    "# plot\n",
    "plt.figure(figsize=(8, 8))\n",
    "plt.subplot(2, 1, 1)\n",
    "plt.imshow(x_rec_)\n",
    "plt.title(\"Reconstructed (Fake)\", fontsize=12)\n",
    "plt.xticks([])\n",
    "plt.yticks([])\n",
    "plt.subplot(2, 1, 2)\n",
    "plt.imshow(x_orig_)\n",
    "plt.title(\"Original (Real)\", fontsize=12)\n",
    "plt.xticks([])\n",
    "plt.yticks([])\n"
   ]
  },
  {
   "cell_type": "code",
   "execution_count": null,
   "id": "8c20e2a9",
   "metadata": {},
   "outputs": [],
   "source": []
  },
  {
   "cell_type": "code",
   "execution_count": 1,
   "id": "6fc57a76",
   "metadata": {},
   "outputs": [
    {
     "ename": "NameError",
     "evalue": "name 'os' is not defined",
     "output_type": "error",
     "traceback": [
      "\u001b[0;31m---------------------------------------------------------------------------\u001b[0m",
      "\u001b[0;31mNameError\u001b[0m                                 Traceback (most recent call last)",
      "\u001b[0;32m<ipython-input-1-fcdc87b5c2fd>\u001b[0m in \u001b[0;36m<module>\u001b[0;34m\u001b[0m\n\u001b[1;32m      3\u001b[0m \u001b[0msave_path\u001b[0m \u001b[0;34m=\u001b[0m \u001b[0;34m\"experiments/ganinversion/dataaug_version_1_epoch=774\"\u001b[0m\u001b[0;34m\u001b[0m\u001b[0;34m\u001b[0m\u001b[0m\n\u001b[1;32m      4\u001b[0m \u001b[0;34m\u001b[0m\u001b[0m\n\u001b[0;32m----> 5\u001b[0;31m \u001b[0mos\u001b[0m\u001b[0;34m.\u001b[0m\u001b[0mmakedirs\u001b[0m\u001b[0;34m(\u001b[0m\u001b[0msave_path\u001b[0m\u001b[0;34m,\u001b[0m \u001b[0mexist_ok\u001b[0m\u001b[0;34m=\u001b[0m\u001b[0;32mTrue\u001b[0m\u001b[0;34m)\u001b[0m\u001b[0;34m\u001b[0m\u001b[0;34m\u001b[0m\u001b[0m\n\u001b[0m\u001b[1;32m      6\u001b[0m \u001b[0;34m\u001b[0m\u001b[0m\n\u001b[1;32m      7\u001b[0m \u001b[0;31m# optional\u001b[0m\u001b[0;34m\u001b[0m\u001b[0;34m\u001b[0m\u001b[0;34m\u001b[0m\u001b[0m\n",
      "\u001b[0;31mNameError\u001b[0m: name 'os' is not defined"
     ]
    }
   ],
   "source": [
    "# important params\n",
    "checkpoint_dir = \"experiments/dataaug/lightning_logs/version_1/checkpoints/epoch=774.ckpt\"\n",
    "save_path = \"experiments/ganinversion/dataaug_version_1_epoch=774\"\n",
    "\n",
    "os.makedirs(save_path, exist_ok=True)\n",
    "\n",
    "# optional\n",
    "bs = 64\n",
    "n_iter = 1000"
   ]
  },
  {
   "cell_type": "code",
   "execution_count": null,
   "id": "8302fb1d",
   "metadata": {},
   "outputs": [],
   "source": [
    "# load model\n",
    "model = GAN.load_from_checkpoint(checkpoint_dir)\n",
    "model.eval()\n",
    "model.cuda()"
   ]
  },
  {
   "cell_type": "code",
   "execution_count": 4,
   "id": "82f7ecd0",
   "metadata": {},
   "outputs": [
    {
     "data": {
      "text/plain": [
       "(torch.Size([10240, 100]), torch.Size([10240, 3, 32, 64]))"
      ]
     },
     "execution_count": 4,
     "metadata": {},
     "output_type": "execute_result"
    }
   ],
   "source": [
    "# fake data loader\n",
    "y_fake = []\n",
    "X_fake = []\n",
    "\n",
    "with th.no_grad():\n",
    "    for i in range(10):\n",
    "        z = th.normal(0, 1, (1000, model.hparams.latent_dim), device=model.device)\n",
    "        x = model.generator(z)\n",
    "\n",
    "        y_fake.append(z.detach().cpu())\n",
    "        X_fake.append(x.detach().cpu())\n",
    "\n",
    "y_fake = th.cat(y, axis=0).\n",
    "X_fake = th.cat(X_fake, axis=0)\n",
    "\n",
    "# save fake dataset\n",
    "np.save(X_fake.detach().cpu().numpy(), os.path.join(save_path, \"X_fake.npy\"))\n",
    "np.save(y.detach().cpu().numpy(), os.path.join(save_path, \"y_fake.npy\"))\n",
    "\n",
    "dataset = TensorDataset(X_fake.detach().cpu(), y_fake.detach().cpu())\n",
    "dataloader_fake = DataLoader(dataset, batch_size=bs, shuffle=True, num_workers=2)\n",
    "\n",
    "y_fake.shape, X_fake.shape"
   ]
  },
  {
   "cell_type": "code",
   "execution_count": null,
   "id": "ec42aef9",
   "metadata": {},
   "outputs": [],
   "source": [
    "# real data loader\n",
    "r, c = 32, 64\n",
    "cars = np.load(\"../potsdam_data/potsdam_cars/cars.npy\", allow_pickle=True)\n",
    "\n",
    "X_real = []\n",
    "for car in cars:\n",
    "    # car = cv2.cvtColor(car, cv2.COLOR_RGB2BGR)\n",
    "    car_resized = cv2.resize(car, (c, r)).transpose(2, 0, 1).astype(np.float32)\n",
    "    # for pytorch\n",
    "    car_resized = car_resized.transpose(2, 0, 1)\n",
    "    # scaling -1, 1\n",
    "    car_resized = 2*(car_resized / 255) - 1\n",
    "    \n",
    "    # append\n",
    "    X_real.append(X_real)\n",
    "X_real = np.concatenate(X_real)\n",
    "\n",
    "# save real dataset\n",
    "np.save(X_real, os.path.join(save_path, \"X_real.npy\"))\n",
    "\n",
    "X_real = th.tensor(X_real, dtype=X_fake.dtype)\n",
    "\n",
    "dataset = TensorDataset(X_real, X_real)\n",
    "dataloader_real = DataLoader(dataset, batch_size=bs, shuffle=True, num_workers=2)\n",
    "\n",
    "X_real.shape"
   ]
  },
  {
   "cell_type": "code",
   "execution_count": null,
   "id": "7361b4b3",
   "metadata": {},
   "outputs": [],
   "source": [
    "# val data loader\n",
    "r, c = 32, 64\n",
    "cars = np.load(\"../potsdam_data/potsdam_cars_val/cars.npy\", allow_pickle=True)\n",
    "\n",
    "X_real = []\n",
    "for car in cars:\n",
    "    # car = cv2.cvtColor(car, cv2.COLOR_RGB2BGR)\n",
    "    car_resized = cv2.resize(car, (c, r)).transpose(2, 0, 1).astype(np.float32)\n",
    "    # for pytorch\n",
    "    car_resized = car_resized.transpose(2, 0, 1)\n",
    "    # scaling -1, 1\n",
    "    car_resized = 2*(car_resized / 255) - 1\n",
    "    \n",
    "    # append\n",
    "    X_real.append(X_real)\n",
    "X_real = np.concatenate(X_real)\n",
    "\n",
    "# save real dataset\n",
    "np.save(X_real, os.path.join(save_path, \"X_real.npy\"))\n",
    "\n",
    "X_real = th.tensor(X_real, dtype=X_fake.dtype)\n",
    "\n",
    "dataset = TensorDataset(X_real, X_real)\n",
    "dataloader_val = DataLoader(dataset, batch_size=2*bs, shuffle=True, num_workers=2)\n",
    "\n",
    "X_real.shape"
   ]
  },
  {
   "cell_type": "code",
   "execution_count": 7,
   "id": "1c2f3f44",
   "metadata": {},
   "outputs": [],
   "source": []
  },
  {
   "cell_type": "code",
   "execution_count": 5,
   "id": "62fa5db9",
   "metadata": {},
   "outputs": [],
   "source": [
    "class EncoderLatent(nn.Module):\n",
    "    def __init__(self, generator):\n",
    "        super().__init__()\n",
    "        \n",
    "        self.generator = generator\n",
    "        for param in self.generator.parameters():\n",
    "            param.requires_grad = False\n",
    "        \n",
    "        self.conv_blocks = nn.Sequential(\n",
    "            ConvBlock(3, 32, bn_mode=\"default\", use_bn=True),\n",
    "            nn.MaxPool2d(2,2),\n",
    "            ConvBlock(32, 64, bn_mode=\"default\", use_bn=True),\n",
    "            nn.MaxPool2d(2,2),\n",
    "            ConvBlock(64, 128, bn_mode=\"default\", use_bn=True),\n",
    "            nn.MaxPool2d(2,2),\n",
    "            ConvBlock(128, 256, bn_mode=\"default\", use_bn=True),\n",
    "            nn.MaxPool2d(2,2)\n",
    "        )\n",
    "        \n",
    "        self.l1 = nn.Linear(2*4*256, 100)\n",
    "    \n",
    "    def forward(self, img):\n",
    "        img = self.conv_blocks(img)\n",
    "        img = img.view(img.shape[0], -1)\n",
    "        z = self.l1(img)\n",
    "        img_rec = self.generator(z)\n",
    "        return z, img_rec"
   ]
  },
  {
   "cell_type": "code",
   "execution_count": 6,
   "id": "0c2697ee",
   "metadata": {},
   "outputs": [],
   "source": [
    "net = EncoderLatent().cuda()\n",
    "optimizer = th.optim.Adam(net.parameters(), lr=0.001)\n",
    "loss_latent = th.nn.MSELoss(reduction=\"mean\")\n",
    "loss_rec = th.nn.MSELoss(reduction=\"mean\")"
   ]
  },
  {
   "cell_type": "code",
   "execution_count": 11,
   "id": "a30612ce",
   "metadata": {},
   "outputs": [
    {
     "name": "stdout",
     "output_type": "stream",
     "text": [
      "iteration  10 loss 0.5701038524508476\n",
      "iteration  20 loss 0.46596389785408976\n",
      "iteration  30 loss 0.392927223443985\n",
      "iteration  40 loss 0.3485002018511295\n",
      "iteration  50 loss 0.3141316339373589\n",
      "iteration  60 loss 0.28951241746544837\n",
      "iteration  70 loss 0.26863467395305635\n",
      "iteration  80 loss 0.25347248539328576\n",
      "iteration  90 loss 0.23726159073412417\n",
      "iteration  100 loss 0.19105645045638084\n",
      "iteration  110 loss 0.18804034031927586\n",
      "iteration  120 loss 0.18712375834584236\n",
      "iteration  130 loss 0.1854029718786478\n",
      "iteration  140 loss 0.184613586217165\n",
      "iteration  150 loss 0.18307697661221028\n",
      "iteration  160 loss 0.18208957985043525\n",
      "iteration  170 loss 0.17833616212010384\n",
      "iteration  180 loss 0.17727105058729647\n",
      "iteration  190 loss 0.1712871503084898\n"
     ]
    }
   ],
   "source": [
    "net.train()\n",
    "learning_curve = []\n",
    "n_iter = 1000\n",
    "\n",
    "for i in range(n_iter):\n",
    "    l = 0\n",
    "    x_fake, z_fake = next(iter(dataloader_fake))\n",
    "    x_real, _ = next(iter(dataloader_real))\n",
    "    \n",
    "    optimizer.zero_grad()\n",
    "    z_fake_, x_fake_ = net.forward(x_fake.cuda())\n",
    "    _, x_real_ = net.forward(x_real.cuda())\n",
    "\n",
    "\n",
    "    loss_1 = loss_latent(z_fake_, z_fake.cuda())\n",
    "    loss_2 = loss_rec(x_fake_, x_fake.cuda())\n",
    "    loss_3 = loss_rec(x_real_, x_real.cuda())\n",
    "    total_loss = loss_1 + loss_2 + loss_3\n",
    "    l += total_loss.item()\n",
    "    total_loss.backward()\n",
    "    optimizer.step()\n",
    "    \n",
    "    learning_curve.append(l)\n",
    "    if i % 10 == 0:\n",
    "        print(\"iteration \", i, \"loss\", l)\n",
    "    \n",
    "    if i % 90 == 0:\n",
    "        for g in optimizer.param_groups:\n",
    "            g['lr'] = g['lr']*0.1\n",
    "            \n",
    "th.save(net.state_dict(), \"experiments/gan_inversion/net.pkl\")"
   ]
  },
  {
   "cell_type": "code",
   "execution_count": 276,
   "id": "06c6e72e",
   "metadata": {},
   "outputs": [
    {
     "data": {
      "text/plain": [
       "Text(0, 0.5, 'MSE')"
      ]
     },
     "execution_count": 276,
     "metadata": {},
     "output_type": "execute_result"
    },
    {
     "data": {
      "image/png": "[encoded data removed]",
      "text/plain": [
       "<Figure size 432x288 with 1 Axes>"
      ]
     },
     "metadata": {
      "needs_background": "light"
     },
     "output_type": "display_data"
    }
   ],
   "source": [
    "l = [ll / len(dataloader) for ll in learning_curve]\n",
    "plt.plot(l)\n",
    "plt.title(\"Loss Curve\")\n",
    "plt.xlabel(\"Epochs\")\n",
    "plt.ylabel(\"MSE\")"
   ]
  },
  {
   "cell_type": "code",
   "execution_count": 7,
   "id": "f4cfd360",
   "metadata": {},
   "outputs": [
    {
     "data": {
      "text/plain": [
       "EncoderLatent(\n",
       "  (conv_blocks): Sequential(\n",
       "    (0): ConvBlock(\n",
       "      (conv_block): ModuleList(\n",
       "        (0): Conv2d(3, 32, kernel_size=(3, 3), stride=(1, 1), padding=(1, 1), bias=False)\n",
       "        (1): BatchNorm2d(32, eps=0.8, momentum=0.1, affine=True, track_running_stats=True)\n",
       "        (2): LeakyReLU(negative_slope=0.2, inplace=True)\n",
       "      )\n",
       "    )\n",
       "    (1): MaxPool2d(kernel_size=2, stride=2, padding=0, dilation=1, ceil_mode=False)\n",
       "    (2): ConvBlock(\n",
       "      (conv_block): ModuleList(\n",
       "        (0): Conv2d(32, 64, kernel_size=(3, 3), stride=(1, 1), padding=(1, 1), bias=False)\n",
       "        (1): BatchNorm2d(64, eps=0.8, momentum=0.1, affine=True, track_running_stats=True)\n",
       "        (2): LeakyReLU(negative_slope=0.2, inplace=True)\n",
       "      )\n",
       "    )\n",
       "    (3): MaxPool2d(kernel_size=2, stride=2, padding=0, dilation=1, ceil_mode=False)\n",
       "    (4): ConvBlock(\n",
       "      (conv_block): ModuleList(\n",
       "        (0): Conv2d(64, 128, kernel_size=(3, 3), stride=(1, 1), padding=(1, 1), bias=False)\n",
       "        (1): BatchNorm2d(128, eps=0.8, momentum=0.1, affine=True, track_running_stats=True)\n",
       "        (2): LeakyReLU(negative_slope=0.2, inplace=True)\n",
       "      )\n",
       "    )\n",
       "    (5): MaxPool2d(kernel_size=2, stride=2, padding=0, dilation=1, ceil_mode=False)\n",
       "    (6): ConvBlock(\n",
       "      (conv_block): ModuleList(\n",
       "        (0): Conv2d(128, 256, kernel_size=(3, 3), stride=(1, 1), padding=(1, 1), bias=False)\n",
       "        (1): BatchNorm2d(256, eps=0.8, momentum=0.1, affine=True, track_running_stats=True)\n",
       "        (2): LeakyReLU(negative_slope=0.2, inplace=True)\n",
       "      )\n",
       "    )\n",
       "    (7): MaxPool2d(kernel_size=2, stride=2, padding=0, dilation=1, ceil_mode=False)\n",
       "  )\n",
       "  (l1): Linear(in_features=2048, out_features=100, bias=True)\n",
       ")"
      ]
     },
     "execution_count": 7,
     "metadata": {},
     "output_type": "execute_result"
    }
   ],
   "source": [
    "net.load_state_dict(th.load(\"experiments/gan_inversion/net.pkl\"))\n",
    "net.cuda()\n",
    "net.eval()"
   ]
  },
  {
   "cell_type": "code",
   "execution_count": 56,
   "id": "153e2fe6",
   "metadata": {},
   "outputs": [
    {
     "data": {
      "text/plain": [
       "([], [])"
      ]
     },
     "execution_count": 56,
     "metadata": {},
     "output_type": "execute_result"
    },
    {
     "data": {
      "image/png": "[encoded data removed]",
      "text/plain": [
       "<Figure size 576x576 with 2 Axes>"
      ]
     },
     "metadata": {},
     "output_type": "display_data"
    }
   ],
   "source": [
    "# testing\n",
    "with th.no_grad():\n",
    "    z = th.normal(0, 1, (1, model.hparams.latent_dim), device=model.device)\n",
    "    x_orig = model.generator(z)\n",
    "\n",
    "    z_rec = net.forward(x_orig)\n",
    "    x_rec = model.generator(z_rec)\n",
    "\n",
    "# rescale\n",
    "x_rec = (np.squeeze(x_rec.detach().cpu().numpy()).transpose(1, 2, 0) + 1) / 2\n",
    "x_orig = (np.squeeze(x_orig.detach().cpu().numpy()).transpose(1, 2, 0) + 1) / 2\n",
    "\n",
    "# plot\n",
    "plt.figure(figsize=(8, 8))\n",
    "plt.subplot(2, 1, 1)\n",
    "plt.imshow(x_rec)\n",
    "plt.title(\"Reconstructed (Fake)\", fontsize=12)\n",
    "plt.xticks([])\n",
    "plt.yticks([])\n",
    "plt.subplot(2, 1, 2)\n",
    "plt.imshow(x_orig)\n",
    "plt.title(\"Original (Fake)\", fontsize=12)\n",
    "plt.xticks([])\n",
    "plt.yticks([])"
   ]
  },
  {
   "cell_type": "code",
   "execution_count": 69,
   "id": "38f5b4b3",
   "metadata": {},
   "outputs": [
    {
     "data": {
      "text/plain": [
       "([], [])"
      ]
     },
     "execution_count": 69,
     "metadata": {},
     "output_type": "execute_result"
    },
    {
     "data": {
      "image/png": "[encoded data removed]",
      "text/plain": [
       "<Figure size 576x576 with 2 Axes>"
      ]
     },
     "metadata": {},
     "output_type": "display_data"
    }
   ],
   "source": [
    "# real image\n",
    "r, c = 32, 64\n",
    "cars = np.load(\"../potsdam_data/potsdam_cars/cars.npy\", allow_pickle=True)\n",
    "\n",
    "cars_resized = []\n",
    "for car in cars:\n",
    "    # car = cv2.cvtColor(car, cv2.COLOR_RGB2BGR)\n",
    "    car_resized = cv2.resize(car, (c, r)).transpose(2, 0, 1).astype(np.float32)\n",
    "    cars_resized.append(2*(car_resized / 255) - 1)\n",
    "\n",
    "i = 858\n",
    "i = 4420\n",
    "with th.no_grad():\n",
    "    x_orig = th.unsqueeze(th.tensor(cars_resized[i]), axis=0)\n",
    "    z_rec = net.forward(x_orig.cuda())\n",
    "    x_rec = model.generator(z_rec)\n",
    "\n",
    "# rescale\n",
    "x_rec = (np.squeeze(x_rec.detach().cpu().numpy()).transpose(1, 2, 0) + 1) / 2\n",
    "x_orig = (np.squeeze(x_orig.detach().cpu().numpy()).transpose(1, 2, 0) + 1) / 2\n",
    "\n",
    "# plot\n",
    "plt.figure(figsize=(8, 8))\n",
    "plt.subplot(2, 1, 1)\n",
    "plt.imshow(x_rec)\n",
    "plt.title(\"Reconstructed (Fake)\", fontsize=12)\n",
    "plt.xticks([])\n",
    "plt.yticks([])\n",
    "plt.subplot(2, 1, 2)\n",
    "plt.imshow(x_orig)\n",
    "plt.title(\"Original (Real)\", fontsize=12)\n",
    "plt.xticks([])\n",
    "plt.yticks([])"
   ]
  },
  {
   "cell_type": "code",
   "execution_count": null,
   "id": "21083f08",
   "metadata": {},
   "outputs": [],
   "source": []
  }
 ],
 "metadata": {
  "kernelspec": {
   "display_name": "Python 3",
   "language": "python",
   "name": "python3"
  },
  "language_info": {
   "codemirror_mode": {
    "name": "ipython",
    "version": 3
   },
   "file_extension": ".py",
   "mimetype": "text/x-python",
   "name": "python",
   "nbconvert_exporter": "python",
   "pygments_lexer": "ipython3",
   "version": "3.8.10"
  }
 },
 "nbformat": 4,
 "nbformat_minor": 5
}
