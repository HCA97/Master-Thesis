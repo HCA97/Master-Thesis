{
 "cells": [
  {
   "cell_type": "code",
   "execution_count": 11,
   "id": "6523768d",
   "metadata": {},
   "outputs": [],
   "source": [
    "from scripts import *\n",
    "transform = transforms.Compose([transforms.Resize((32, 64)),\n",
    "                                transforms.ToTensor(),\n",
    "                                transforms.RandomHorizontalFlip(p=0.5),\n",
    "                                transforms.RandomVerticalFlip(p=0.5),\n",
    "                                transforms.ColorJitter(\n",
    "                                    hue=[-0.1, 0.1], contrast=[1, 1.25]),\n",
    "                                transforms.Normalize([0.5], [0.5])])\n",
    "\n"
   ]
  },
  {
   "cell_type": "code",
   "execution_count": 12,
   "id": "058d5c9e",
   "metadata": {},
   "outputs": [],
   "source": [
    "potsdam_dir = \"../potsdam_data/potsdam_cars_corrected\"\n",
    "munit_dir1 = \"experiments/munit_version_2_larger_image_corrected/version_1/10000_cars_cropped\"\n",
    "munit_dir2 = \"experiments/munit_version_2_larger_image_corrected_500/version_0/10000_cars_cropped\""
   ]
  },
  {
   "cell_type": "code",
   "execution_count": 13,
   "id": "e4ca6857",
   "metadata": {},
   "outputs": [
    {
     "name": "stdout",
     "output_type": "stream",
     "text": [
      "FID MIN - 1.9953611261117572 | FID MAX - 2.077074664396884 | FID Mean - 2.0551563024702104\n"
     ]
    }
   ],
   "source": [
    "datasetmodule = PostdamCarsDataModule(potsdam_dir,\n",
    "                      data_dir2=munit_dir1,\n",
    "                      transform=transform,\n",
    "                      batch_size=1024)\n",
    "datasetmodule.setup()\n",
    "dataloader = datasetmodule.train_dataloader()\n",
    "\n",
    "fid_multiple = []\n",
    "for _ in range(5):\n",
    "    real, refined = next(iter(dataloader))\n",
    "    fid_multiple.append(fid_score(real, refined, device=\"cuda:0\"))\n",
    "print(f\"FID MIN - {np.min(fid_multiple)} | FID MAX - {np.max(fid_multiple)} | FID Mean - {np.mean(fid_multiple)}\")\n"
   ]
  },
  {
   "cell_type": "code",
   "execution_count": 14,
   "id": "13d880dd",
   "metadata": {},
   "outputs": [
    {
     "name": "stdout",
     "output_type": "stream",
     "text": [
      "FID MIN - 2.4372063403018616 | FID MAX - 2.5663260681740403 | FID Mean - 2.5017228840230428\n"
     ]
    }
   ],
   "source": [
    "datasetmodule = PostdamCarsDataModule(potsdam_dir,\n",
    "                      data_dir2=munit_dir2,\n",
    "                      transform=transform,\n",
    "                      batch_size=1024)\n",
    "datasetmodule.setup()\n",
    "dataloader = datasetmodule.train_dataloader()\n",
    "\n",
    "fid_multiple = []\n",
    "for _ in range(5):\n",
    "    real, refined = next(iter(dataloader))\n",
    "    fid_multiple.append(fid_score(real, refined, device=\"cuda:0\"))\n",
    "print(f\"FID MIN - {np.min(fid_multiple)} | FID MAX - {np.max(fid_multiple)} | FID Mean - {np.mean(fid_multiple)}\")\n"
   ]
  },
  {
   "cell_type": "code",
   "execution_count": 17,
   "id": "baf60fa4",
   "metadata": {},
   "outputs": [],
   "source": [
    "import torchvision\n",
    "\n",
    "datasetmodule = PostdamCarsDataModule(potsdam_dir,\n",
    "                      data_dir2=munit_dir1,\n",
    "                      transform=transform,\n",
    "                      batch_size=30)\n",
    "datasetmodule.setup()\n",
    "dataloader = datasetmodule.train_dataloader()\n",
    "\n",
    "real, refined = next(iter(dataloader))\n",
    "grid = torchvision.utils.make_grid(refined, normalize=True, nrow=10, pad_value=1)\n",
    "torchvision.utils.save_image(grid, \"figs/munit_1_sample.png\")"
   ]
  },
  {
   "cell_type": "code",
   "execution_count": 18,
   "id": "0cd276a1",
   "metadata": {},
   "outputs": [],
   "source": [
    "import torchvision\n",
    "\n",
    "datasetmodule = PostdamCarsDataModule(potsdam_dir,\n",
    "                      data_dir2=munit_dir2,\n",
    "                      transform=transform,\n",
    "                      batch_size=30)\n",
    "datasetmodule.setup()\n",
    "dataloader = datasetmodule.train_dataloader()\n",
    "\n",
    "real, refined = next(iter(dataloader))\n",
    "grid = torchvision.utils.make_grid(refined, normalize=True, nrow=10, pad_value=1)\n",
    "torchvision.utils.save_image(grid, \"figs/munit_2_sample.png\")"
   ]
  },
  {
   "cell_type": "code",
   "execution_count": null,
   "id": "8e0b2890",
   "metadata": {},
   "outputs": [],
   "source": []
  }
 ],
 "metadata": {
  "kernelspec": {
   "display_name": "Python 3",
   "language": "python",
   "name": "python3"
  },
  "language_info": {
   "codemirror_mode": {
    "name": "ipython",
    "version": 3
   },
   "file_extension": ".py",
   "mimetype": "text/x-python",
   "name": "python",
   "nbconvert_exporter": "python",
   "pygments_lexer": "ipython3",
   "version": "3.8.12"
  }
 },
 "nbformat": 4,
 "nbformat_minor": 5
}
