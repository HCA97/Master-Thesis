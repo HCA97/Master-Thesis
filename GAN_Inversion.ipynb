{
 "cells": [
  {
   "cell_type": "code",
   "execution_count": 1,
   "id": "8dbd622d",
   "metadata": {},
   "outputs": [],
   "source": [
    "import os\n",
    "\n",
    "import torch as th\n",
    "import torch.nn as nn\n",
    "from torch.utils.data import DataLoader, TensorDataset\n",
    "import torchvision\n",
    "import numpy as np\n",
    "import matplotlib.pyplot as plt\n",
    "\n",
    "from scripts.models import *\n",
    "from scripts.dataloader import *\n",
    "from scripts.layers import *"
   ]
  },
  {
   "cell_type": "code",
   "execution_count": 6,
   "id": "dd1d7c87",
   "metadata": {},
   "outputs": [],
   "source": [
    "checkpoint_dir = \"experiments/dataaug_all/lightning_logs/version_2/checkpoints/epoch=374.ckpt\"\n",
    "n = 10\n",
    "size = 1024\n",
    "bs = 256"
   ]
  },
  {
   "cell_type": "code",
   "execution_count": 280,
   "id": "8ee08219",
   "metadata": {
    "scrolled": true
   },
   "outputs": [
    {
     "data": {
      "text/plain": [
       "GAN(\n",
       "  (generator): BasicGenerator(\n",
       "    (l1): Linear(in_features=100, out_features=4096, bias=True)\n",
       "    (conv_blocks): Sequential(\n",
       "      (0): BatchNorm2d(512, eps=1e-05, momentum=0.1, affine=True, track_running_stats=True)\n",
       "      (1): Upsample(scale_factor=2.0, mode=nearest)\n",
       "      (2): ConvBlock(\n",
       "        (conv_block): ModuleList(\n",
       "          (0): Conv2d(512, 512, kernel_size=(3, 3), stride=(1, 1), padding=(1, 1), bias=False)\n",
       "          (1): BatchNorm2d(512, eps=0.8, momentum=0.1, affine=True, track_running_stats=True)\n",
       "          (2): LeakyReLU(negative_slope=0.2, inplace=True)\n",
       "        )\n",
       "      )\n",
       "      (3): Upsample(scale_factor=2.0, mode=nearest)\n",
       "      (4): ConvBlock(\n",
       "        (conv_block): ModuleList(\n",
       "          (0): Conv2d(512, 256, kernel_size=(3, 3), stride=(1, 1), padding=(1, 1), bias=False)\n",
       "          (1): BatchNorm2d(256, eps=0.8, momentum=0.1, affine=True, track_running_stats=True)\n",
       "          (2): LeakyReLU(negative_slope=0.2, inplace=True)\n",
       "        )\n",
       "      )\n",
       "      (5): Upsample(scale_factor=2.0, mode=nearest)\n",
       "      (6): ConvBlock(\n",
       "        (conv_block): ModuleList(\n",
       "          (0): Conv2d(256, 128, kernel_size=(3, 3), stride=(1, 1), padding=(1, 1), bias=False)\n",
       "          (1): BatchNorm2d(128, eps=0.8, momentum=0.1, affine=True, track_running_stats=True)\n",
       "          (2): LeakyReLU(negative_slope=0.2, inplace=True)\n",
       "        )\n",
       "      )\n",
       "      (7): Upsample(scale_factor=2.0, mode=nearest)\n",
       "      (8): ConvBlock(\n",
       "        (conv_block): ModuleList(\n",
       "          (0): Conv2d(128, 64, kernel_size=(3, 3), stride=(1, 1), padding=(1, 1), bias=False)\n",
       "          (1): BatchNorm2d(64, eps=0.8, momentum=0.1, affine=True, track_running_stats=True)\n",
       "          (2): LeakyReLU(negative_slope=0.2, inplace=True)\n",
       "        )\n",
       "      )\n",
       "      (9): ConvBlock(\n",
       "        (conv_block): ModuleList(\n",
       "          (0): Conv2d(64, 3, kernel_size=(3, 3), stride=(1, 1), padding=(1, 1))\n",
       "          (1): Tanh()\n",
       "        )\n",
       "      )\n",
       "    )\n",
       "  )\n",
       "  (discriminator): BasicDiscriminator(\n",
       "    (conv_blocks): Sequential(\n",
       "      (0): ConvBlock(\n",
       "        (conv_block): ModuleList(\n",
       "          (0): Conv2d(3, 32, kernel_size=(3, 3), stride=(2, 2), padding=(1, 1))\n",
       "          (1): LeakyReLU(negative_slope=0.2, inplace=True)\n",
       "          (2): Dropout2d(p=0.25, inplace=False)\n",
       "        )\n",
       "      )\n",
       "      (1): ConvBlock(\n",
       "        (conv_block): ModuleList(\n",
       "          (0): Conv2d(32, 64, kernel_size=(3, 3), stride=(2, 2), padding=(1, 1), bias=False)\n",
       "          (1): BatchNorm2d(64, eps=0.8, momentum=0.1, affine=True, track_running_stats=True)\n",
       "          (2): LeakyReLU(negative_slope=0.2, inplace=True)\n",
       "          (3): Dropout2d(p=0.25, inplace=False)\n",
       "        )\n",
       "      )\n",
       "      (2): ConvBlock(\n",
       "        (conv_block): ModuleList(\n",
       "          (0): Conv2d(64, 128, kernel_size=(3, 3), stride=(2, 2), padding=(1, 1), bias=False)\n",
       "          (1): BatchNorm2d(128, eps=0.8, momentum=0.1, affine=True, track_running_stats=True)\n",
       "          (2): LeakyReLU(negative_slope=0.2, inplace=True)\n",
       "          (3): Dropout2d(p=0.25, inplace=False)\n",
       "        )\n",
       "      )\n",
       "      (3): ConvBlock(\n",
       "        (conv_block): ModuleList(\n",
       "          (0): Conv2d(128, 256, kernel_size=(3, 3), stride=(2, 2), padding=(1, 1), bias=False)\n",
       "          (1): BatchNorm2d(256, eps=0.8, momentum=0.1, affine=True, track_running_stats=True)\n",
       "          (2): LeakyReLU(negative_slope=0.2, inplace=True)\n",
       "          (3): Dropout2d(p=0.25, inplace=False)\n",
       "        )\n",
       "      )\n",
       "    )\n",
       "    (l1): Sequential(\n",
       "      (0): Linear(in_features=2048, out_features=1, bias=True)\n",
       "      (1): Sigmoid()\n",
       "    )\n",
       "  )\n",
       "  (criterion): BCELoss()\n",
       ")"
      ]
     },
     "execution_count": 280,
     "metadata": {},
     "output_type": "execute_result"
    }
   ],
   "source": [
    "model = GAN.load_from_checkpoint(checkpoint_dir).to(\"cuda:0\")\n",
    "model.eval()"
   ]
  },
  {
   "cell_type": "code",
   "execution_count": 4,
   "id": "82f7ecd0",
   "metadata": {},
   "outputs": [
    {
     "data": {
      "text/plain": [
       "(torch.Size([10240, 100]), torch.Size([10240, 3, 32, 64]))"
      ]
     },
     "execution_count": 4,
     "metadata": {},
     "output_type": "execute_result"
    }
   ],
   "source": [
    "y = []\n",
    "X = []\n",
    "\n",
    "with th.no_grad():\n",
    "    for i in range(n):\n",
    "        z = th.normal(0, 1, (size, model.hparams.latent_dim), device=model.device)\n",
    "        x = model.generator(z)\n",
    "\n",
    "        y.append(z)\n",
    "        X.append(x)\n",
    "\n",
    "y = th.cat(y, axis=0)\n",
    "X = th.cat(X, axis=0)\n",
    "y.shape, X.shape"
   ]
  },
  {
   "cell_type": "code",
   "execution_count": 7,
   "id": "1c2f3f44",
   "metadata": {},
   "outputs": [],
   "source": [
    "dataset = TensorDataset(X.detach().cpu(), y.detach().cpu())\n",
    "dataloader = DataLoader(dataset, batch_size=bs, shuffle=True, num_workers=2)"
   ]
  },
  {
   "cell_type": "code",
   "execution_count": 8,
   "id": "62fa5db9",
   "metadata": {},
   "outputs": [],
   "source": [
    "class EncoderLatent(nn.Module):\n",
    "    def __init__(self):\n",
    "        super().__init__()\n",
    "        \n",
    "        self.conv_blocks = nn.Sequential(\n",
    "            ConvBlock(3, 32, use_bn=True),\n",
    "            nn.MaxPool2d(2,2),\n",
    "            ConvBlock(32, 64, use_bn=True),\n",
    "            nn.MaxPool2d(2,2),\n",
    "            ConvBlock(64, 128, use_bn=True),\n",
    "            nn.MaxPool2d(2,2),\n",
    "            ConvBlock(128, 256, use_bn=True),\n",
    "            nn.MaxPool2d(2,2)\n",
    "        )\n",
    "        \n",
    "        self.l1 = nn.Linear(2*4*256, 100)\n",
    "    \n",
    "    def forward(self, x):\n",
    "        x = self.conv_blocks(x)\n",
    "        x = x.view(x.shape[0], -1)\n",
    "        x = self.l1(x)\n",
    "        return x"
   ]
  },
  {
   "cell_type": "code",
   "execution_count": 9,
   "id": "0c2697ee",
   "metadata": {},
   "outputs": [],
   "source": [
    "net = EncoderLatent().cuda()\n",
    "optimizer = th.optim.Adam(net.parameters(), lr=0.001)\n",
    "loss = th.nn.MSELoss(reduction=\"mean\")"
   ]
  },
  {
   "cell_type": "code",
   "execution_count": 11,
   "id": "a30612ce",
   "metadata": {},
   "outputs": [
    {
     "name": "stdout",
     "output_type": "stream",
     "text": [
      "iteration  10 loss 0.5701038524508476\n",
      "iteration  20 loss 0.46596389785408976\n",
      "iteration  30 loss 0.392927223443985\n",
      "iteration  40 loss 0.3485002018511295\n",
      "iteration  50 loss 0.3141316339373589\n",
      "iteration  60 loss 0.28951241746544837\n",
      "iteration  70 loss 0.26863467395305635\n",
      "iteration  80 loss 0.25347248539328576\n",
      "iteration  90 loss 0.23726159073412417\n",
      "iteration  100 loss 0.19105645045638084\n",
      "iteration  110 loss 0.18804034031927586\n",
      "iteration  120 loss 0.18712375834584236\n",
      "iteration  130 loss 0.1854029718786478\n",
      "iteration  140 loss 0.184613586217165\n",
      "iteration  150 loss 0.18307697661221028\n",
      "iteration  160 loss 0.18208957985043525\n",
      "iteration  170 loss 0.17833616212010384\n",
      "iteration  180 loss 0.17727105058729647\n",
      "iteration  190 loss 0.1712871503084898\n"
     ]
    }
   ],
   "source": [
    "net.train()\n",
    "learning_curve = []\n",
    "for i in range(1, 200):\n",
    "    l = 0\n",
    "    for x, y in dataloader:\n",
    "        optimizer.zero_grad()\n",
    "        y_p = net.forward(x.cuda())\n",
    "        output = loss(y_p, y.cuda())\n",
    "        l += output.item()\n",
    "        output.backward()\n",
    "        optimizer.step()\n",
    "    \n",
    "    learning_curve.append(l / len(dataloader))\n",
    "    if i % 10 == 0:\n",
    "        print(\"iteration \", i, \"loss\", l / len(dataloader))\n",
    "    \n",
    "    if i % 90 == 0:\n",
    "        for g in optimizer.param_groups:\n",
    "            g['lr'] = g['lr']*0.1\n",
    "            \n",
    "th.save(net.state_dict(), \"experiments/gan_inversion/net.pkl\")"
   ]
  },
  {
   "cell_type": "code",
   "execution_count": 276,
   "id": "06c6e72e",
   "metadata": {},
   "outputs": [
    {
     "data": {
      "text/plain": [
       "Text(0, 0.5, 'MSE')"
      ]
     },
     "execution_count": 276,
     "metadata": {},
     "output_type": "execute_result"
    },
    {
     "data": {
      "image/png": "[encoded data removed]",
      "text/plain": [
       "<Figure size 432x288 with 1 Axes>"
      ]
     },
     "metadata": {
      "needs_background": "light"
     },
     "output_type": "display_data"
    }
   ],
   "source": [
    "l = [ll / len(dataloader) for ll in learning_curve]\n",
    "plt.plot(l)\n",
    "plt.title(\"Loss Curve\")\n",
    "plt.xlabel(\"Epochs\")\n",
    "plt.ylabel(\"MSE\")"
   ]
  },
  {
   "cell_type": "code",
   "execution_count": 279,
   "id": "f4cfd360",
   "metadata": {},
   "outputs": [
    {
     "data": {
      "text/plain": [
       "EncoderLatent(\n",
       "  (conv_blocks): Sequential(\n",
       "    (0): ConvBlock(\n",
       "      (conv_block): ModuleList(\n",
       "        (0): Conv2d(3, 32, kernel_size=(3, 3), stride=(1, 1), padding=(1, 1), bias=False)\n",
       "        (1): BatchNorm2d(32, eps=0.8, momentum=0.1, affine=True, track_running_stats=True)\n",
       "        (2): LeakyReLU(negative_slope=0.2, inplace=True)\n",
       "      )\n",
       "    )\n",
       "    (1): MaxPool2d(kernel_size=2, stride=2, padding=0, dilation=1, ceil_mode=False)\n",
       "    (2): ConvBlock(\n",
       "      (conv_block): ModuleList(\n",
       "        (0): Conv2d(32, 64, kernel_size=(3, 3), stride=(1, 1), padding=(1, 1), bias=False)\n",
       "        (1): BatchNorm2d(64, eps=0.8, momentum=0.1, affine=True, track_running_stats=True)\n",
       "        (2): LeakyReLU(negative_slope=0.2, inplace=True)\n",
       "      )\n",
       "    )\n",
       "    (3): MaxPool2d(kernel_size=2, stride=2, padding=0, dilation=1, ceil_mode=False)\n",
       "    (4): ConvBlock(\n",
       "      (conv_block): ModuleList(\n",
       "        (0): Conv2d(64, 128, kernel_size=(3, 3), stride=(1, 1), padding=(1, 1), bias=False)\n",
       "        (1): BatchNorm2d(128, eps=0.8, momentum=0.1, affine=True, track_running_stats=True)\n",
       "        (2): LeakyReLU(negative_slope=0.2, inplace=True)\n",
       "      )\n",
       "    )\n",
       "    (5): MaxPool2d(kernel_size=2, stride=2, padding=0, dilation=1, ceil_mode=False)\n",
       "    (6): ConvBlock(\n",
       "      (conv_block): ModuleList(\n",
       "        (0): Conv2d(128, 256, kernel_size=(3, 3), stride=(1, 1), padding=(1, 1), bias=False)\n",
       "        (1): BatchNorm2d(256, eps=0.8, momentum=0.1, affine=True, track_running_stats=True)\n",
       "        (2): LeakyReLU(negative_slope=0.2, inplace=True)\n",
       "      )\n",
       "    )\n",
       "    (7): MaxPool2d(kernel_size=2, stride=2, padding=0, dilation=1, ceil_mode=False)\n",
       "  )\n",
       "  (l1): Linear(in_features=2048, out_features=100, bias=True)\n",
       ")"
      ]
     },
     "execution_count": 279,
     "metadata": {},
     "output_type": "execute_result"
    }
   ],
   "source": [
    "net.load_state_dict(th.load(\"experiments/gan_inversion/net.pkl\"))\n",
    "net.cuda()\n",
    "net.eval()"
   ]
  },
  {
   "cell_type": "code",
   "execution_count": 290,
   "id": "153e2fe6",
   "metadata": {},
   "outputs": [
    {
     "data": {
      "text/plain": [
       "([], [])"
      ]
     },
     "execution_count": 290,
     "metadata": {},
     "output_type": "execute_result"
    },
    {
     "data": {
      "image/png": "[encoded data removed]",
      "text/plain": [
       "<Figure size 576x576 with 2 Axes>"
      ]
     },
     "metadata": {},
     "output_type": "display_data"
    }
   ],
   "source": [
    "# testing\n",
    "with th.no_grad():\n",
    "    z = th.normal(0, 1, (1, model.hparams.latent_dim), device=model.device)\n",
    "    x_orig = model.generator(z)\n",
    "\n",
    "    z_rec = net.forward(x_orig)\n",
    "    x_rec = model.generator(z_rec)\n",
    "\n",
    "# rescale\n",
    "x_rec = (np.squeeze(x_rec.detach().cpu().numpy()).transpose(1, 2, 0) + 1) / 2\n",
    "x_orig = (np.squeeze(x_orig.detach().cpu().numpy()).transpose(1, 2, 0) + 1) / 2\n",
    "\n",
    "# plot\n",
    "plt.figure(figsize=(8, 8))\n",
    "plt.subplot(2, 1, 1)\n",
    "plt.imshow(x_rec)\n",
    "plt.title(\"Reconstructed (Fake)\", fontsize=12)\n",
    "plt.xticks([])\n",
    "plt.yticks([])\n",
    "plt.subplot(2, 1, 2)\n",
    "plt.imshow(x_orig)\n",
    "plt.title(\"Original (Fake)\", fontsize=12)\n",
    "plt.xticks([])\n",
    "plt.yticks([])"
   ]
  },
  {
   "cell_type": "code",
   "execution_count": 296,
   "id": "38f5b4b3",
   "metadata": {},
   "outputs": [
    {
     "data": {
      "text/plain": [
       "([], [])"
      ]
     },
     "execution_count": 296,
     "metadata": {},
     "output_type": "execute_result"
    },
    {
     "data": {
      "image/png": "[encoded data removed]",
      "text/plain": [
       "<Figure size 576x576 with 2 Axes>"
      ]
     },
     "metadata": {},
     "output_type": "display_data"
    }
   ],
   "source": [
    "# real image\n",
    "import cv2\n",
    "r, c = 32, 64\n",
    "cars = np.load(\"../potsdam_data/potsdam_cars/cars.npy\", allow_pickle=True)\n",
    "\n",
    "cars_resized = []\n",
    "for car in cars:\n",
    "    car_resized = cv2.resize(car, (c, r)).transpose(2, 0, 1).astype(np.float32)\n",
    "    cars_resized.append(2*(car_resized / 255) - 1)\n",
    "\n",
    "i = 858\n",
    "# i = 2110\n",
    "with th.no_grad():\n",
    "    x_orig = th.unsqueeze(th.tensor(cars_resized[i]), axis=0)\n",
    "    z_rec = net.forward(x_orig.cuda())\n",
    "    x_rec = model.generator(z_rec)\n",
    "\n",
    "# rescale\n",
    "x_rec = (np.squeeze(x_rec.detach().cpu().numpy()).transpose(1, 2, 0) + 1) / 2\n",
    "x_orig = (np.squeeze(x_orig.detach().cpu().numpy()).transpose(1, 2, 0) + 1) / 2\n",
    "\n",
    "# plot\n",
    "plt.figure(figsize=(8, 8))\n",
    "plt.subplot(2, 1, 1)\n",
    "plt.imshow(x_rec)\n",
    "plt.title(\"Reconstructed (Fake)\", fontsize=12)\n",
    "plt.xticks([])\n",
    "plt.yticks([])\n",
    "plt.subplot(2, 1, 2)\n",
    "plt.imshow(x_orig)\n",
    "plt.title(\"Original (Real)\", fontsize=12)\n",
    "plt.xticks([])\n",
    "plt.yticks([])"
   ]
  },
  {
   "cell_type": "code",
   "execution_count": null,
   "id": "21083f08",
   "metadata": {},
   "outputs": [],
   "source": []
  }
 ],
 "metadata": {
  "kernelspec": {
   "display_name": "Python 3",
   "language": "python",
   "name": "python3"
  },
  "language_info": {
   "codemirror_mode": {
    "name": "ipython",
    "version": 3
   },
   "file_extension": ".py",
   "mimetype": "text/x-python",
   "name": "python",
   "nbconvert_exporter": "python",
   "pygments_lexer": "ipython3",
   "version": "3.8.10"
  }
 },
 "nbformat": 4,
 "nbformat_minor": 5
}
