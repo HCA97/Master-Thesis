{
 "cells": [
  {
   "cell_type": "code",
   "execution_count": 1,
   "id": "7b7cece0",
   "metadata": {},
   "outputs": [],
   "source": [
    "from torchvision import transforms, utils\n",
    "from scripts import PostdamCarsDataModule, Skeleton, fid_score, DynamicPad, AddNoise\n",
    "import PIL"
   ]
  },
  {
   "cell_type": "code",
   "execution_count": 7,
   "id": "39514063",
   "metadata": {},
   "outputs": [],
   "source": [
    "tr =  transforms.Compose([transforms.ColorJitter(hue=[-0.1, 0.1]),\n",
    "                                 DynamicPad(min_img_dim=(130, 70),\n",
    "                                            padding_mode=\"constant\", padding_value=125),\n",
    "                                 transforms.RandomRotation(\n",
    "                                     degrees=5, resample=PIL.Image.NEAREST, fill=125),\n",
    "                                 transforms.RandomCrop(\n",
    "                                     (60, 120), padding_mode=\"reflect\"),\n",
    "                                 transforms.Resize((32, 64)),\n",
    "                                 transforms.RandomHorizontalFlip(p=0.5),\n",
    "                                 transforms.RandomVerticalFlip(p=0.5),\n",
    "                                 transforms.ToTensor(),\n",
    "                                 transforms.Normalize([0.5], [0.5]),\n",
    "                                 AddNoise(alpha=0.07)])\n",
    "\n",
    "pots = PostdamCarsDataModule(\"../potsdam_data/cem-v0/v2/training_tightcanvas_graybackground\",\n",
    "                             batch_size=64, \n",
    "                             transform=tr,\n",
    "                             img_size=(32, 64))\n",
    "\n",
    "pots.setup()\n",
    "data = pots.train_dataloader()\n",
    "\n",
    "car, _ = next(iter(data))\n",
    "grid = utils.make_grid(car, normalize=True, pad_value=-1)\n",
    "utils.save_image(grid, \"test1.png\")"
   ]
  },
  {
   "cell_type": "code",
   "execution_count": null,
   "id": "2f1f746b",
   "metadata": {},
   "outputs": [],
   "source": [
    "tr = transforms.Compose([transforms.Resize((32, 64)),\n",
    "                         Skeleton(1, 20, True, True),\n",
    "                         transforms.RandomRotation(\n",
    "                             degrees=5, resample=PIL.Image.NEAREST, fill=255),\n",
    "                         #transforms.RandomAffine(degrees=0, \n",
    "                         #                        translate=(0.05, 0.1), \n",
    "                         #                        shear=0, \n",
    "                         #                        scale=(0.9, 0.95),\n",
    "                         #                        fillcolor=255, \n",
    "                         #                        resample=PIL.Image.NEAREST),\n",
    "                         #                       \n",
    "                         transforms.ToTensor(),\n",
    "                         transforms.RandomHorizontalFlip(p=0.5),\n",
    "                         transforms.RandomVerticalFlip(p=0.5),\n",
    "                         transforms.Normalize([0.5], [0.5])])\n",
    "\n",
    "pots = PostdamCarsDataModule(\"../potsdam_data/gta_cars_online_masked_cars\",\n",
    "                             batch_size=64, \n",
    "                             transform=tr,\n",
    "                             img_size=(48, 96))\n",
    "\n",
    "pots.setup()\n",
    "data = pots.train_dataloader()\n",
    "\n",
    "car, _ = next(iter(data))\n",
    "grid = utils.make_grid(car, normalize=True, pad_value=1)\n",
    "utils.save_image(grid, \"gta_cars.png\")"
   ]
  },
  {
   "cell_type": "code",
   "execution_count": null,
   "id": "3f47dcbf",
   "metadata": {},
   "outputs": [],
   "source": [
    "help(transforms.RandomAffine)"
   ]
  },
  {
   "cell_type": "code",
   "execution_count": null,
   "id": "b7fd627a",
   "metadata": {},
   "outputs": [],
   "source": [
    "img_dim = (3, 32, 64)\n",
    "data_dir1 = \"../potsdam_data/potsdam_cars_all\"\n",
    "data_dir2 = \"../potsdam_data/artificial_cars\"\n",
    "\n",
    "transform1 = transforms.Compose([transforms.Resize(img_dim[1:]),\n",
    "                                transforms.ToTensor(),\n",
    "                                transforms.RandomHorizontalFlip(p=0.5),\n",
    "                                transforms.RandomVerticalFlip(p=0.5),\n",
    "                                transforms.ColorJitter(hue=[-0.1, 0.1]),\n",
    "                                transforms.Normalize([0.5], [0.5])])\n",
    "transform2 = transforms.Compose([transforms.Resize(img_dim[1:]),\n",
    "                                 transforms.ToTensor(),\n",
    "                                 transforms.RandomHorizontalFlip(p=0.5),\n",
    "                                 transforms.RandomVerticalFlip(p=0.5),\n",
    "                                 transforms.Normalize([0.5], [0.5])])\n",
    "\n",
    "potsdam = PostdamCarsDataModule(\n",
    "    data_dir1, img_size=img_dim[1:], batch_size=1024,\n",
    "    data_dir2=data_dir2, transform=transform1, transform2=transform2)\n",
    "potsdam.setup()\n",
    "data = potsdam.train_dataloader()\n",
    "\n",
    "fids = []\n",
    "for _ in range(5):\n",
    "    real, artificial = next(iter(data))\n",
    "    fids.append(fid_score(real, artificial, device=\"cuda:0\"))\n",
    "np.mean(fids)"
   ]
  },
  {
   "cell_type": "code",
   "execution_count": null,
   "id": "cf927170",
   "metadata": {},
   "outputs": [],
   "source": [
    "np.mean(fids), np.std(fids)"
   ]
  },
  {
   "cell_type": "code",
   "execution_count": null,
   "id": "2149025c",
   "metadata": {},
   "outputs": [],
   "source": [
    "act1 = np.squeeze(vgg16_get_activation_maps(real, layer_idx=33, device=\"cpu\", normalize_range=(-1, 1)).numpy())\n",
    "act2 = np.squeeze(vgg16_get_activation_maps(artificial, layer_idx=33, device=\"cpu\", normalize_range=(-1, 1)).numpy())\n",
    "fid_score(act1, act2, skip_vgg=True)"
   ]
  },
  {
   "cell_type": "code",
   "execution_count": null,
   "id": "225bd0a4",
   "metadata": {},
   "outputs": [],
   "source": [
    "act1 = vgg16_get_activation_maps(real, layer_idx=33, device=\"cpu\", normalize_range=(-1, 1))\n",
    "act2 =  vgg16_get_activation_maps(artificial, layer_idx=33, device=\"cpu\", normalize_range=(-1, 1))\n",
    "fid_score(act1, act2, skip_vgg=True)"
   ]
  },
  {
   "cell_type": "code",
   "execution_count": null,
   "id": "d9dcaf3c",
   "metadata": {},
   "outputs": [],
   "source": [
    "import os\n",
    "import cv2\n",
    "\n",
    "folder = \"../edges2shoes/train\"\n",
    "files = os.listdir(folder)\n",
    "\n",
    "shoes = \"../edges2shoes/train_shoes\"\n",
    "edges = \"../edges2shoes/train_edges\"\n",
    "os.makedirs(shoes, exist_ok=True)\n",
    "os.makedirs(edges, exist_ok=True)\n",
    "\n",
    "for file in files[:5000]:\n",
    "    if os.path.splitext(file)[-1] == \".jpg\":\n",
    "        img = cv2.imread(os.path.join(folder, file))\n",
    "        e = img[:, :256]\n",
    "        s = img[:, 256:]\n",
    "        \n",
    "        cv2.imwrite(os.path.join(shoes, file), s)\n",
    "        cv2.imwrite(os.path.join(edges, file), e)\n",
    "        \n",
    "        \n",
    "        \n",
    "        "
   ]
  },
  {
   "cell_type": "code",
   "execution_count": null,
   "id": "b72097f6",
   "metadata": {},
   "outputs": [],
   "source": [
    "\n",
    "tr = transforms.Compose([transforms.Resize((96, 96)),\n",
    "                         transforms.RandomRotation(\n",
    "                             degrees=5, resample=PIL.Image.NEAREST, fill=255),\n",
    "                         transforms.ToTensor(),\n",
    "                         transforms.RandomHorizontalFlip(p=0.5),\n",
    "                         transforms.Normalize([0.5], [0.5])])\n",
    "\n",
    "pots = PostdamCarsDataModule(\"../edges2shoes/train_shoes\",\n",
    "                             data_dir2=\"../edges2shoes/train_edges\",\n",
    "                             batch_size=64, \n",
    "                             transform=tr,\n",
    "                             transform2=tr,\n",
    "                             img_size=(64, 64))\n",
    "\n",
    "pots.setup()\n",
    "data = pots.train_dataloader()\n",
    "\n",
    "car, edge = next(iter(data))\n",
    "grid = utils.make_grid(edge, normalize=True)\n",
    "utils.save_image(grid, \"edge2car.png\")"
   ]
  },
  {
   "cell_type": "code",
   "execution_count": 5,
   "id": "9c89f54d",
   "metadata": {},
   "outputs": [],
   "source": [
    "from torchvision import transforms, utils\n",
    "from scripts import PostdamCarsDataModule\n",
    "\n",
    "pots = PostdamCarsDataModule(\"../potsdam_data/potsdam_cars_corrected\",\n",
    "                             data_dir2=\"../potsdam_data/potsdam_cars_corrected_failed\",\n",
    "                             batch_size=30)\n",
    "\n",
    "pots.setup()\n",
    "data = pots.train_dataloader()\n",
    "\n",
    "passed, failed = next(iter(data))\n",
    "\n",
    "grid = utils.make_grid(passed, nrow=10, normalize=True, pad_value=1)\n",
    "utils.save_image(grid, \"passed_cars.png\")\n",
    "\n",
    "grid = utils.make_grid(failed, nrow=10, normalize=True, pad_value=1)\n",
    "utils.save_image(grid, \"failed_cars.png\")"
   ]
  },
  {
   "cell_type": "code",
   "execution_count": 21,
   "id": "37ca983e",
   "metadata": {},
   "outputs": [
    {
     "data": {
      "text/plain": [
       "(1.3456232109880308, 1.3209501295767494, 1.3297460703722241)"
      ]
     },
     "execution_count": 21,
     "metadata": {},
     "output_type": "execute_result"
    }
   ],
   "source": [
    "from torchvision import transforms, utils\n",
    "from scripts import PostdamCarsDataModule, fid_score\n",
    "\n",
    "pots = PostdamCarsDataModule(\"../potsdam_data/potsdam_cars_corrected\",\n",
    "                             data_dir2=\"../potsdam_data/cem-v0/v2/training_tightcanvas_graybackground\",\n",
    "                             transform = transforms.Compose([transforms.Resize((32, 64)),\n",
    "                                                                transforms.ToTensor(),\n",
    "                                                                transforms.RandomHorizontalFlip(p=0.5),\n",
    "                                                                transforms.RandomVerticalFlip(p=0.5),\n",
    "                                                                transforms.ColorJitter(\n",
    "                                                                    hue=[-0.1, 0.1], contrast=[1, 1.25]),\n",
    "                                                                transforms.Normalize([0.5], [0.5])]),\n",
    "                             transform2 = transforms.Compose([transforms.Resize((32, 64)),\n",
    "                                                                transforms.ToTensor(),\n",
    "                                                                transforms.RandomHorizontalFlip(p=0.5),\n",
    "                                                                transforms.RandomVerticalFlip(p=0.5),\n",
    "                                                                transforms.Normalize([0.5], [0.5])]),\n",
    "                             batch_size=1024)\n",
    "\n",
    "\n",
    "pots.setup()\n",
    "data = pots.train_dataloader()\n",
    "\n",
    "fid_scores = []\n",
    "for i in range(5):\n",
    "    real1, artificial = next(iter(data))\n",
    "    real2, artificial = next(iter(data))\n",
    "    fid_scores.append(fid_score(real1, real2, device=\"cuda:0\"))\n",
    "\n",
    "max(fid_scores), min(fid_scores), sum(fid_scores) / 5"
   ]
  },
  {
   "cell_type": "code",
   "execution_count": 20,
   "id": "3fd42af2",
   "metadata": {},
   "outputs": [
    {
     "data": {
      "text/plain": [
       "[11.548408550171875,\n",
       " 11.71328583857035,\n",
       " 11.544662657979536,\n",
       " 11.796701227101828,\n",
       " 11.716654176712044]"
      ]
     },
     "execution_count": 20,
     "metadata": {},
     "output_type": "execute_result"
    }
   ],
   "source": [
    "fid_scores"
   ]
  },
  {
   "cell_type": "code",
   "execution_count": 3,
   "id": "297aa4aa",
   "metadata": {},
   "outputs": [],
   "source": [
    "from torchvision import transforms, utils\n",
    "from scripts import PostdamCarsDataModule\n",
    "\n",
    "pots = PostdamCarsDataModule(\"experiments/dcgan_experiments/version_2/results/images/epoch=974\",\n",
    "                             data_dir2=\"experiments/dcgan_experiments/version_2/results/images/epoch=24\",\n",
    "                             batch_size=30)\n",
    "\n",
    "pots.setup()\n",
    "data = pots.train_dataloader()\n",
    "\n",
    "passed, failed = next(iter(data))\n",
    "\n",
    "grid = utils.make_grid(passed, nrow=10, normalize=True, pad_value=1)\n",
    "utils.save_image(grid, \"best_fid_cars.png\")\n",
    "\n",
    "grid = utils.make_grid(failed, nrow=10, normalize=True, pad_value=1)\n",
    "utils.save_image(grid, \"worst_fid_cars.png\")"
   ]
  },
  {
   "cell_type": "code",
   "execution_count": 5,
   "id": "faaffd6b",
   "metadata": {},
   "outputs": [],
   "source": [
    "from torchvision import transforms, utils\n",
    "from scripts import PostdamCarsDataModule\n",
    "\n",
    "pots = PostdamCarsDataModule(\"../potsdam_data/potsdam_cars_corrected\",\n",
    "                             data_dir2=\"../potsdam_data/potsdam_cars_corrected\",\n",
    "                             shuffle=False,\n",
    "                             transform = transforms.Compose([transforms.Resize((32, 64)),\n",
    "                                                                transforms.ToTensor(),\n",
    "                                                                transforms.Normalize([0.5], [0.5])]), \n",
    "                             transform2 = transforms.Compose([transforms.Resize((32, 64)),\n",
    "                                                                transforms.ToTensor(),\n",
    "                                                                transforms.ColorJitter(\n",
    "                                                                    hue=[-0.1, 0.1], contrast=[1, 1.25]),\n",
    "                                                                transforms.Normalize([0.5], [0.5])]),                             \n",
    "                             batch_size=30)\n",
    "\n",
    "pots.setup()\n",
    "data = pots.train_dataloader()\n",
    "\n",
    "original, data_aug = next(iter(data))\n",
    "\n",
    "grid = utils.make_grid(original, nrow=10, normalize=True, pad_value=1)\n",
    "utils.save_image(grid, \"figs/original_cars.png\")\n",
    "\n",
    "grid = utils.make_grid(data_aug, nrow=10, normalize=True, pad_value=1)\n",
    "utils.save_image(grid, \"figs/data_aug_cars.png\")"
   ]
  },
  {
   "cell_type": "code",
   "execution_count": null,
   "id": "7d456dbc",
   "metadata": {},
   "outputs": [],
   "source": []
  }
 ],
 "metadata": {
  "kernelspec": {
   "display_name": "Python 3",
   "language": "python",
   "name": "python3"
  },
  "language_info": {
   "codemirror_mode": {
    "name": "ipython",
    "version": 3
   },
   "file_extension": ".py",
   "mimetype": "text/x-python",
   "name": "python",
   "nbconvert_exporter": "python",
   "pygments_lexer": "ipython3",
   "version": "3.8.12"
  }
 },
 "nbformat": 4,
 "nbformat_minor": 5
}
