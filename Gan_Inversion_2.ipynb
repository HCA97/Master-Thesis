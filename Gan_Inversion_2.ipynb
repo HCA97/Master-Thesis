{
 "cells": [
  {
   "cell_type": "code",
   "execution_count": 17,
   "id": "b1691416",
   "metadata": {},
   "outputs": [],
   "source": [
    "import os\n",
    "import pickle\n",
    "\n",
    "import lpips\n",
    "import torch as th\n",
    "import torch.nn as nn\n",
    "from torch.utils.data import DataLoader, TensorDataset\n",
    "import torchvision\n",
    "import numpy as np\n",
    "import matplotlib.pyplot as plt\n",
    "import tqdm\n",
    "import cv2\n",
    "\n",
    "from scripts import *"
   ]
  },
  {
   "cell_type": "code",
   "execution_count": 2,
   "id": "ac4c08b6",
   "metadata": {},
   "outputs": [],
   "source": [
    "%load_ext autoreload\n",
    "%autoreload 2"
   ]
  },
  {
   "cell_type": "code",
   "execution_count": 3,
   "id": "b1c05de3",
   "metadata": {},
   "outputs": [],
   "source": [
    "# input\n",
    "model_checkpoint = \"experiments/dcgan_disc_double_params_padding_reflect_lr_scheduler/lightning_logs/version_0/checkpoints/epoch=899.ckpt\"\n",
    "gan_space_path = \"experiments/ganspace/dcgan_disc_double_params_padding_reflect_lr_scheduler_epoch=899\"\n",
    "save_path = \"experiments/gan_inversion/dcgan_disc_double_params_padding_reflect_lr_scheduler_epoch=899\"\n",
    "layer = \"linear\"\n",
    "\n",
    "# important params\n",
    "os.makedirs(save_path, exist_ok=True)\n",
    "\n",
    "# optional\n",
    "n_time= 5\n",
    "bs = 64\n",
    "n_iter = 1000\n",
    "r, c = 32, 64"
   ]
  },
  {
   "cell_type": "code",
   "execution_count": 4,
   "id": "e92798a6",
   "metadata": {},
   "outputs": [
    {
     "data": {
      "text/plain": [
       "1"
      ]
     },
     "execution_count": 4,
     "metadata": {},
     "output_type": "execute_result"
    }
   ],
   "source": [
    "# load model\n",
    "model = GAN.load_from_checkpoint(model_checkpoint)\n",
    "model.eval()\n",
    "model.cuda()\n",
    "1"
   ]
  },
  {
   "cell_type": "code",
   "execution_count": 8,
   "id": "5be81917",
   "metadata": {},
   "outputs": [],
   "source": [
    "pca_path = os.path.join(gan_space_path, layer, \"pca.pkl\")\n",
    "\n",
    "f = open(pca_path, 'rb')\n",
    "pca = pickle.load(f)\n",
    "f.close()\n",
    "\n",
    "# load dataset\n",
    "X = np.concatenate([np.load(os.path.join(gan_space_path, layer, f\"X{i+1}.npy\")) for i in range(n_time)], axis=0)\n",
    "y = np.concatenate([np.load(os.path.join(gan_space_path, layer, f\"y{i+1}.npy\")) for i in range(n_time)], axis=0)\n",
    "\n",
    "# information gain\n",
    "information_gain = np.cumsum(pca.explained_variance_ratio_)\n",
    "idx = np.where(information_gain >= 0.9)[0][0]\n",
    "\n",
    "# \n",
    "comp = pca.components_[:idx]\n",
    "mean = pca.mean_\n",
    "\n",
    "# reconstruction\n",
    "X_pca = (X - mean).dot(comp.T) \n",
    "\n",
    "# important\n",
    "stds= []\n",
    "for x in X_pca[:, :idx].T:\n",
    "    stds.append(x.std())\n",
    "    \n",
    "E = th.tensor(comp, device=model.device, dtype=th.float32)\n",
    "mu = th.tensor(mean, device=model.device, dtype=th.float32)"
   ]
  },
  {
   "cell_type": "code",
   "execution_count": 12,
   "id": "b6d788fc",
   "metadata": {},
   "outputs": [],
   "source": [
    "generator = PCAGenerator(model.generator, E, mu)"
   ]
  },
  {
   "cell_type": "code",
   "execution_count": 14,
   "id": "fb04cae6",
   "metadata": {},
   "outputs": [
    {
     "data": {
      "text/plain": [
       "(torch.Size([10000, 28]), torch.Size([10000, 3, 32, 64]))"
      ]
     },
     "execution_count": 14,
     "metadata": {},
     "output_type": "execute_result"
    }
   ],
   "source": [
    "# fake data loader\n",
    "\n",
    "# path names\n",
    "X_fake_path = os.path.join(save_path, \"X_fake.npy\")\n",
    "y_fake_path = os.path.join(save_path, \"y_fake.npy\")\n",
    "\n",
    "if not os.path.exists(X_fake_path) or not os.path.exists(y_fake_path):\n",
    "    y_fake = []\n",
    "    X_fake = []\n",
    "\n",
    "    with th.no_grad():\n",
    "        for i in range(10):\n",
    "            z = []\n",
    "            for _ in range(n_iter):\n",
    "                point = [np.random.normal(0, scale) for scale in stds]\n",
    "                if np.random.uniform(0, 1) < 0.5:\n",
    "                    point[0] = max(point[0], 11.8467328) if point[0] > 0 else min(point[0], -11.8467328)\n",
    "                z.append(point)\n",
    "            z = th.tensor(z, device=model.device)\n",
    "            x = generator(z)\n",
    "            y_fake.append(z.detach().cpu())\n",
    "            X_fake.append(x.detach().cpu())\n",
    "\n",
    "    y_fake = th.cat(y_fake, axis=0)\n",
    "    X_fake = th.cat(X_fake, axis=0)\n",
    "\n",
    "    # save fake dataset\n",
    "    np.save(X_fake_path, X_fake.detach().cpu().numpy())\n",
    "    np.save(y_fake_path, y_fake.detach().cpu().numpy())\n",
    "else:\n",
    "    X_fake = th.tensor(np.load(X_fake_path))\n",
    "    y_fake = th.tensor(np.load(y_fake_path))\n",
    "dataset = TensorDataset(X_fake.detach().cpu(), y_fake.detach().cpu())\n",
    "dataloader_fake = DataLoader(dataset, batch_size=bs, shuffle=True, num_workers=2)\n",
    "\n",
    "y_fake.shape, X_fake.shape"
   ]
  },
  {
   "cell_type": "code",
   "execution_count": 120,
   "id": "2168df01",
   "metadata": {},
   "outputs": [
    {
     "data": {
      "text/plain": [
       "torch.Size([4302, 3, 32, 64])"
      ]
     },
     "execution_count": 120,
     "metadata": {},
     "output_type": "execute_result"
    }
   ],
   "source": [
    "# real data loader\n",
    "\n",
    "X_real_path = os.path.join(save_path, \"X_real.npy\")\n",
    "\n",
    "cars = np.load(\"../potsdam_data/potsdam_cars/cars.npy\", allow_pickle=True)\n",
    "\n",
    "if not os.path.exists(X_real_path):\n",
    "    X_real = []\n",
    "    for car in tqdm.tqdm(cars):\n",
    "        car = cv2.cvtColor(car, cv2.BGR2RGB)\n",
    "        car_resized = cv2.resize(car, (c, r)).transpose(2, 0, 1).astype(np.float32)\n",
    "\n",
    "        # scaling -1, 1\n",
    "        car_resized = 2*(car_resized / 255) - 1\n",
    "\n",
    "        # append\n",
    "        X_real.append(np.expand_dims(car_resized, axis=0))\n",
    "\n",
    "    X_real = np.concatenate(X_real, axis=0)\n",
    "\n",
    "    # save real dataset\n",
    "    np.save(X_real_path, X_real)\n",
    "else:\n",
    "    X_real = np.load(X_real_path)\n",
    "\n",
    "X_real = th.tensor(X_real, dtype=X_fake.dtype)\n",
    "\n",
    "dataset = TensorDataset(X_real, X_real)\n",
    "dataloader_real = DataLoader(dataset, batch_size=bs, shuffle=True, num_workers=2)\n",
    "\n",
    "X_real.shape"
   ]
  },
  {
   "cell_type": "code",
   "execution_count": 122,
   "id": "6962bc85",
   "metadata": {},
   "outputs": [
    {
     "data": {
      "text/plain": [
       "torch.Size([414, 3, 32, 64])"
      ]
     },
     "execution_count": 122,
     "metadata": {},
     "output_type": "execute_result"
    }
   ],
   "source": [
    "# val data loader\n",
    "\n",
    "X_real_path = os.path.join(save_path, \"X_real_val.npy\")\n",
    "\n",
    "cars = np.load(\"../potsdam_data/potsdam_cars_val/cars.npy\", allow_pickle=True)\n",
    "\n",
    "if not os.path.exists(X_real_path):\n",
    "    X_real = []\n",
    "    for car in cars:\n",
    "        car = cv2.cvtColor(car, cv2.COLOR_RGB2BGR)\n",
    "        car_resized = cv2.resize(car, (c, r)).transpose(2, 0, 1).astype(np.float32)\n",
    "        \n",
    "        # scaling -1, 1\n",
    "        car_resized = 2*(car_resized / 255) - 1\n",
    "\n",
    "        # append\n",
    "        X_real.append(np.expand_dims(car_resized, axis=0))\n",
    "        \n",
    "    X_real = np.concatenate(X_real, axis=0)\n",
    "\n",
    "    # save real dataset\n",
    "    np.save(X_real_path, X_real)\n",
    "else:\n",
    "    X_real = np.load(X_real_path)\n",
    "\n",
    "X_real = th.tensor(X_real, dtype=X_fake.dtype)\n",
    "\n",
    "dataset = TensorDataset(X_real, X_real)\n",
    "dataloader_val = DataLoader(dataset, batch_size=2*bs, shuffle=True, num_workers=2)\n",
    "\n",
    "X_real.shape"
   ]
  },
  {
   "cell_type": "code",
   "execution_count": 33,
   "id": "4925a246",
   "metadata": {},
   "outputs": [
    {
     "name": "stdout",
     "output_type": "stream",
     "text": [
      "Setting up [LPIPS] perceptual loss: trunk [vgg], v[0.1], spatial [off]\n",
      "Loading model from: /home/hca/Documents/Master/Thesis/Master-Thesis/.env/lib/python3.8/site-packages/lpips/weights/v0.1/vgg.pth\n"
     ]
    }
   ],
   "source": [
    "net = EncoderLatent(generator).cuda()\n",
    "optimizer = th.optim.Adam(net.parameters(), lr=0.001)\n",
    "loss_latent = th.nn.L1Loss(reduction=\"mean\")\n",
    "loss_rec1 = th.nn.L1Loss(reduction=\"mean\")\n",
    "loss_rec2 = lpips.LPIPS(net='vgg').cuda()"
   ]
  },
  {
   "cell_type": "code",
   "execution_count": 34,
   "id": "4a7765cd",
   "metadata": {},
   "outputs": [
    {
     "name": "stdout",
     "output_type": "stream",
     "text": [
      "----------------------------------------------------------------\n",
      "        Layer (type)               Output Shape         Param #\n",
      "================================================================\n",
      "            Conv2d-1           [-1, 64, 32, 64]           1,728\n",
      "       BatchNorm2d-2           [-1, 64, 32, 64]             128\n",
      "         LeakyReLU-3           [-1, 64, 32, 64]               0\n",
      "         ConvBlock-4           [-1, 64, 32, 64]               0\n",
      "         MaxPool2d-5           [-1, 64, 16, 32]               0\n",
      "            Conv2d-6          [-1, 128, 16, 32]          73,728\n",
      "       BatchNorm2d-7          [-1, 128, 16, 32]             256\n",
      "         LeakyReLU-8          [-1, 128, 16, 32]               0\n",
      "         ConvBlock-9          [-1, 128, 16, 32]               0\n",
      "        MaxPool2d-10           [-1, 128, 8, 16]               0\n",
      "           Conv2d-11           [-1, 256, 8, 16]         294,912\n",
      "      BatchNorm2d-12           [-1, 256, 8, 16]             512\n",
      "        LeakyReLU-13           [-1, 256, 8, 16]               0\n",
      "        ConvBlock-14           [-1, 256, 8, 16]               0\n",
      "        MaxPool2d-15            [-1, 256, 4, 8]               0\n",
      "           Conv2d-16            [-1, 512, 4, 8]       1,179,648\n",
      "      BatchNorm2d-17            [-1, 512, 4, 8]           1,024\n",
      "        LeakyReLU-18            [-1, 512, 4, 8]               0\n",
      "        ConvBlock-19            [-1, 512, 4, 8]               0\n",
      "        MaxPool2d-20            [-1, 512, 2, 4]               0\n",
      "           Linear-21                   [-1, 28]         114,716\n",
      "      BatchNorm2d-22            [-1, 512, 2, 4]           1,024\n",
      "         Upsample-23            [-1, 512, 4, 8]               0\n",
      "           Conv2d-24            [-1, 512, 4, 8]       2,359,296\n",
      "      BatchNorm2d-25            [-1, 512, 4, 8]           1,024\n",
      "        LeakyReLU-26            [-1, 512, 4, 8]               0\n",
      "        ConvBlock-27            [-1, 512, 4, 8]               0\n",
      "         Upsample-28           [-1, 512, 8, 16]               0\n",
      "           Conv2d-29           [-1, 256, 8, 16]       1,179,648\n",
      "      BatchNorm2d-30           [-1, 256, 8, 16]             512\n",
      "        LeakyReLU-31           [-1, 256, 8, 16]               0\n",
      "        ConvBlock-32           [-1, 256, 8, 16]               0\n",
      "         Upsample-33          [-1, 256, 16, 32]               0\n",
      "           Conv2d-34          [-1, 128, 16, 32]         294,912\n",
      "      BatchNorm2d-35          [-1, 128, 16, 32]             256\n",
      "        LeakyReLU-36          [-1, 128, 16, 32]               0\n",
      "        ConvBlock-37          [-1, 128, 16, 32]               0\n",
      "         Upsample-38          [-1, 128, 32, 64]               0\n",
      "           Conv2d-39           [-1, 64, 32, 64]          73,728\n",
      "      BatchNorm2d-40           [-1, 64, 32, 64]             128\n",
      "        LeakyReLU-41           [-1, 64, 32, 64]               0\n",
      "        ConvBlock-42           [-1, 64, 32, 64]               0\n",
      "           Conv2d-43            [-1, 3, 32, 64]           1,731\n",
      "             Tanh-44            [-1, 3, 32, 64]               0\n",
      "        ConvBlock-45            [-1, 3, 32, 64]               0\n",
      "     PCAGenerator-46            [-1, 3, 32, 64]               0\n",
      "================================================================\n",
      "Total params: 5,578,911\n",
      "Trainable params: 1,666,652\n",
      "Non-trainable params: 3,912,259\n",
      "----------------------------------------------------------------\n",
      "Input size (MB): 0.02\n",
      "Forward/backward pass size (MB): 19.31\n",
      "Params size (MB): 21.28\n",
      "Estimated Total Size (MB): 40.62\n",
      "----------------------------------------------------------------\n"
     ]
    }
   ],
   "source": [
    "from torchsummary import summary\n",
    "summary(net.cuda(), (3, 32, 64))"
   ]
  },
  {
   "cell_type": "code",
   "execution_count": 35,
   "id": "b081eaef",
   "metadata": {},
   "outputs": [
    {
     "name": "stdout",
     "output_type": "stream",
     "text": [
      "iteration  0 loss 5.756210803985596\n",
      "iteration  0 val loss tensor(3.1509, device='cuda:0')\n",
      "iteration  10 loss 5.106329917907715\n",
      "iteration  20 loss 4.779513359069824\n",
      "iteration  30 loss 4.505547523498535\n",
      "iteration  40 loss 4.3947954177856445\n",
      "iteration  50 loss 4.268649578094482\n",
      "iteration  60 loss 4.310161590576172\n",
      "iteration  70 loss 3.9060816764831543\n",
      "iteration  80 loss 3.9853904247283936\n",
      "iteration  90 loss 3.7870380878448486\n",
      "iteration  100 loss 3.7337608337402344\n",
      "iteration  100 val loss tensor(1.7703, device='cuda:0')\n",
      "iteration  110 loss 3.5925612449645996\n",
      "iteration  120 loss 3.770880699157715\n",
      "iteration  130 loss 3.648646593093872\n",
      "iteration  140 loss 3.576219081878662\n",
      "iteration  150 loss 3.625713586807251\n",
      "iteration  160 loss 3.637026309967041\n",
      "iteration  170 loss 3.7095563411712646\n",
      "iteration  180 loss 3.7327170372009277\n",
      "iteration  190 loss 3.7287635803222656\n",
      "iteration  200 loss 3.689666509628296\n",
      "iteration  200 val loss tensor(1.7314, device='cuda:0')\n",
      "iteration  210 loss 3.7044663429260254\n",
      "iteration  220 loss 3.7180068492889404\n",
      "iteration  230 loss 3.5580434799194336\n",
      "iteration  240 loss 3.5930399894714355\n",
      "iteration  250 loss 3.7615039348602295\n",
      "iteration  260 loss 3.6155776977539062\n",
      "iteration  270 loss 3.6892199516296387\n",
      "iteration  280 loss 3.734424114227295\n",
      "iteration  290 loss 3.741520404815674\n"
     ]
    }
   ],
   "source": [
    "net.train()\n",
    "\n",
    "learning_curve = []\n",
    "learning_curve_val = []\n",
    "n_iter = 301\n",
    "\n",
    "for i in range(n_iter):\n",
    "\n",
    "    x_fake, z_fake = next(iter(dataloader_fake))\n",
    "    x_real, _ = next(iter(dataloader_real))\n",
    "    \n",
    "    optimizer.zero_grad()\n",
    "    z_fake_, x_fake_ = net.forward(x_fake.cuda())\n",
    "    _, x_real_ = net.forward(x_real.cuda())\n",
    "\n",
    "\n",
    "    loss_1 = loss_latent(z_fake_, z_fake.cuda())\n",
    "    loss_2 = loss_rec1(x_fake_, x_fake.cuda()) + loss_rec1(x_real_, x_real.cuda())\n",
    "    loss_3 = th.mean(loss_rec2(x_fake_, x_fake.cuda(), normalize=True)) + \\\n",
    "             th.mean(loss_rec2(x_real_, x_real.cuda(), normalize=True))\n",
    "    total_loss = loss_1 + loss_2 + loss_3\n",
    "    \n",
    "    learning_curve.append(total_loss.item())\n",
    "    \n",
    "    total_loss.backward()\n",
    "    optimizer.step()\n",
    "    \n",
    "    if i % 10 == 0:\n",
    "        print(\"iteration \", i, \"loss\", learning_curve[-1])\n",
    "    \n",
    "    if i % 90 == 0:\n",
    "        for g in optimizer.param_groups:\n",
    "            g['lr'] = g['lr']*0.1\n",
    "    \n",
    "    if i % 100 == 0:\n",
    "        with th.no_grad():\n",
    "            net.eval()\n",
    "            l = 0\n",
    "            for x_val, _ in dataloader_val:\n",
    "                _, x_val_ = net.forward(x_val.cuda())\n",
    "                l += th.mean(loss_rec2(x_val_, x_val.cuda(), normalize=True)).item()\n",
    "                l += loss_rec1(x_val_, x_val.cuda()).item()\n",
    "            print(\"iteration \", i, \"val loss\", l)\n",
    "            learning_curve_val.append(l)\n",
    "            net.train()\n",
    "        th.save(net.state_dict(), os.path.join(save_path, f\"iter={i}.pkl\"))"
   ]
  },
  {
   "cell_type": "code",
   "execution_count": 37,
   "id": "df8d6424",
   "metadata": {},
   "outputs": [
    {
     "data": {
      "text/plain": [
       "Text(0, 0.5, 'MSE')"
      ]
     },
     "execution_count": 37,
     "metadata": {},
     "output_type": "execute_result"
    },
    {
     "data": {
      "image/png": "[encoded data removed]",
      "text/plain": [
       "<Figure size 432x288 with 1 Axes>"
      ]
     },
     "metadata": {
      "needs_background": "light"
     },
     "output_type": "display_data"
    }
   ],
   "source": [
    "plt.plot(learning_curve)\n",
    "plt.plot([100*i for i in range(len(learning_curve_val))], learning_curve_val)\n",
    "plt.title(\"Loss Curve\")\n",
    "plt.xlabel(\"Epochs\")\n",
    "plt.ylabel(\"MSE\")"
   ]
  },
  {
   "cell_type": "code",
   "execution_count": 38,
   "id": "e19391bf",
   "metadata": {},
   "outputs": [
    {
     "data": {
      "text/plain": [
       "EncoderLatent(\n",
       "  (generator): PCAGenerator(\n",
       "    (generator): BasicGenerator(\n",
       "      (l1): Linear(in_features=100, out_features=4096, bias=True)\n",
       "      (conv_blocks): Sequential(\n",
       "        (0): BatchNorm2d(512, eps=1e-05, momentum=0.1, affine=True, track_running_stats=True)\n",
       "        (1): Upsample(scale_factor=2.0, mode=nearest)\n",
       "        (2): ConvBlock(\n",
       "          (conv_block): ModuleList(\n",
       "            (0): Conv2d(512, 512, kernel_size=(3, 3), stride=(1, 1), padding=(1, 1), bias=False, padding_mode=reflect)\n",
       "            (1): BatchNorm2d(512, eps=1e-05, momentum=0.1, affine=True, track_running_stats=True)\n",
       "            (2): LeakyReLU(negative_slope=0.2, inplace=True)\n",
       "          )\n",
       "        )\n",
       "        (3): Upsample(scale_factor=2.0, mode=nearest)\n",
       "        (4): ConvBlock(\n",
       "          (conv_block): ModuleList(\n",
       "            (0): Conv2d(512, 256, kernel_size=(3, 3), stride=(1, 1), padding=(1, 1), bias=False, padding_mode=reflect)\n",
       "            (1): BatchNorm2d(256, eps=1e-05, momentum=0.1, affine=True, track_running_stats=True)\n",
       "            (2): LeakyReLU(negative_slope=0.2, inplace=True)\n",
       "          )\n",
       "        )\n",
       "        (5): Upsample(scale_factor=2.0, mode=nearest)\n",
       "        (6): ConvBlock(\n",
       "          (conv_block): ModuleList(\n",
       "            (0): Conv2d(256, 128, kernel_size=(3, 3), stride=(1, 1), padding=(1, 1), bias=False, padding_mode=reflect)\n",
       "            (1): BatchNorm2d(128, eps=1e-05, momentum=0.1, affine=True, track_running_stats=True)\n",
       "            (2): LeakyReLU(negative_slope=0.2, inplace=True)\n",
       "          )\n",
       "        )\n",
       "        (7): Upsample(scale_factor=2.0, mode=nearest)\n",
       "        (8): ConvBlock(\n",
       "          (conv_block): ModuleList(\n",
       "            (0): Conv2d(128, 64, kernel_size=(3, 3), stride=(1, 1), padding=(1, 1), bias=False, padding_mode=reflect)\n",
       "            (1): BatchNorm2d(64, eps=1e-05, momentum=0.1, affine=True, track_running_stats=True)\n",
       "            (2): LeakyReLU(negative_slope=0.2, inplace=True)\n",
       "          )\n",
       "        )\n",
       "        (9): ConvBlock(\n",
       "          (conv_block): ModuleList(\n",
       "            (0): Conv2d(64, 3, kernel_size=(3, 3), stride=(1, 1), padding=(1, 1), padding_mode=reflect)\n",
       "            (1): Tanh()\n",
       "          )\n",
       "        )\n",
       "      )\n",
       "    )\n",
       "  )\n",
       "  (conv_blocks): Sequential(\n",
       "    (0): ConvBlock(\n",
       "      (conv_block): ModuleList(\n",
       "        (0): Conv2d(3, 64, kernel_size=(3, 3), stride=(1, 1), padding=(1, 1), bias=False)\n",
       "        (1): BatchNorm2d(64, eps=1e-05, momentum=0.1, affine=True, track_running_stats=True)\n",
       "        (2): LeakyReLU(negative_slope=0.2, inplace=True)\n",
       "      )\n",
       "    )\n",
       "    (1): MaxPool2d(kernel_size=2, stride=2, padding=0, dilation=1, ceil_mode=False)\n",
       "    (2): ConvBlock(\n",
       "      (conv_block): ModuleList(\n",
       "        (0): Conv2d(64, 128, kernel_size=(3, 3), stride=(1, 1), padding=(1, 1), bias=False)\n",
       "        (1): BatchNorm2d(128, eps=1e-05, momentum=0.1, affine=True, track_running_stats=True)\n",
       "        (2): LeakyReLU(negative_slope=0.2, inplace=True)\n",
       "      )\n",
       "    )\n",
       "    (3): MaxPool2d(kernel_size=2, stride=2, padding=0, dilation=1, ceil_mode=False)\n",
       "    (4): ConvBlock(\n",
       "      (conv_block): ModuleList(\n",
       "        (0): Conv2d(128, 256, kernel_size=(3, 3), stride=(1, 1), padding=(1, 1), bias=False)\n",
       "        (1): BatchNorm2d(256, eps=1e-05, momentum=0.1, affine=True, track_running_stats=True)\n",
       "        (2): LeakyReLU(negative_slope=0.2, inplace=True)\n",
       "      )\n",
       "    )\n",
       "    (5): MaxPool2d(kernel_size=2, stride=2, padding=0, dilation=1, ceil_mode=False)\n",
       "    (6): ConvBlock(\n",
       "      (conv_block): ModuleList(\n",
       "        (0): Conv2d(256, 512, kernel_size=(3, 3), stride=(1, 1), padding=(1, 1), bias=False)\n",
       "        (1): BatchNorm2d(512, eps=1e-05, momentum=0.1, affine=True, track_running_stats=True)\n",
       "        (2): LeakyReLU(negative_slope=0.2, inplace=True)\n",
       "      )\n",
       "    )\n",
       "    (7): MaxPool2d(kernel_size=2, stride=2, padding=0, dilation=1, ceil_mode=False)\n",
       "  )\n",
       "  (l1): Linear(in_features=4096, out_features=28, bias=True)\n",
       ")"
      ]
     },
     "execution_count": 38,
     "metadata": {},
     "output_type": "execute_result"
    }
   ],
   "source": [
    "best_model_iter = 300\n",
    "net.load_state_dict(th.load(os.path.join(save_path, f\"iter={best_model_iter}.pkl\")))\n",
    "net.cuda()\n",
    "net.eval()"
   ]
  },
  {
   "cell_type": "code",
   "execution_count": 183,
   "id": "9f298786",
   "metadata": {},
   "outputs": [
    {
     "data": {
      "text/plain": [
       "([], [])"
      ]
     },
     "execution_count": 183,
     "metadata": {},
     "output_type": "execute_result"
    },
    {
     "data": {
      "image/png": "[encoded data removed]",
      "text/plain": [
       "<Figure size 576x576 with 2 Axes>"
      ]
     },
     "metadata": {},
     "output_type": "display_data"
    }
   ],
   "source": [
    "# testing\n",
    "with th.no_grad():\n",
    "    z = [np.random.normal(0, scale) for scale in stds]\n",
    "    z[0] = max(point[0], 11.8467328) if point[0] > 0 else min(point[0], -11.8467328)\n",
    "    z = th.tensor(z, device=model.device)\n",
    "\n",
    "    x_orig = generator(z)\n",
    "\n",
    "    z_rec, _ = net.forward(x_orig)\n",
    "    x_rec = generator(z_rec)\n",
    "\n",
    "# rescale\n",
    "x_rec = (np.squeeze(x_rec.detach().cpu().numpy()).transpose(1, 2, 0) + 1) / 2\n",
    "x_orig = (np.squeeze(x_orig.detach().cpu().numpy()).transpose(1, 2, 0) + 1) / 2\n",
    "\n",
    "# plot\n",
    "plt.figure(figsize=(8, 8))\n",
    "plt.subplot(2, 1, 1)\n",
    "plt.imshow(x_rec)\n",
    "plt.title(\"Reconstructed (Fake)\", fontsize=12)\n",
    "plt.xticks([])\n",
    "plt.yticks([])\n",
    "plt.subplot(2, 1, 2)\n",
    "plt.imshow(x_orig)\n",
    "plt.title(\"Original (Fake)\", fontsize=12)\n",
    "plt.xticks([])\n",
    "plt.yticks([])"
   ]
  },
  {
   "cell_type": "code",
   "execution_count": 180,
   "id": "3c295f31",
   "metadata": {},
   "outputs": [
    {
     "data": {
      "text/plain": [
       "([], [])"
      ]
     },
     "execution_count": 180,
     "metadata": {},
     "output_type": "execute_result"
    },
    {
     "data": {
      "image/png": "[encoded data removed]",
      "text/plain": [
       "<Figure size 576x576 with 2 Axes>"
      ]
     },
     "metadata": {},
     "output_type": "display_data"
    }
   ],
   "source": [
    "i = 50\n",
    "x_val, _ = next(iter(dataloader_val))\n",
    "\n",
    "x_orig = th.unsqueeze(x_val[i], axis=0)\n",
    "z_rec, _ =  net.forward(x_orig.cuda())\n",
    "x_rec = generator(z_rec)\n",
    "\n",
    "# rescale\n",
    "x_rec = (np.squeeze(x_rec.detach().cpu().numpy()).transpose(1, 2, 0) + 1) / 2\n",
    "x_orig = (np.squeeze(x_orig.detach().cpu().numpy()).transpose(1, 2, 0) + 1) / 2\n",
    "\n",
    "# plot\n",
    "plt.figure(figsize=(8, 8))\n",
    "plt.subplot(2, 1, 1)\n",
    "plt.imshow(x_rec)\n",
    "plt.title(\"Reconstructed (Fake)\", fontsize=16)\n",
    "plt.xticks([])\n",
    "\n",
    "plt.yticks([])\n",
    "plt.subplot(2, 1, 2)\n",
    "plt.imshow(x_orig)\n",
    "plt.title(\"Original (Real)\", fontsize=16)\n",
    "plt.xticks([])\n",
    "plt.yticks([])"
   ]
  },
  {
   "cell_type": "code",
   "execution_count": null,
   "id": "bd2e1938",
   "metadata": {},
   "outputs": [],
   "source": []
  }
 ],
 "metadata": {
  "kernelspec": {
   "display_name": "Python 3",
   "language": "python",
   "name": "python3"
  },
  "language_info": {
   "codemirror_mode": {
    "name": "ipython",
    "version": 3
   },
   "file_extension": ".py",
   "mimetype": "text/x-python",
   "name": "python",
   "nbconvert_exporter": "python",
   "pygments_lexer": "ipython3",
   "version": "3.8.10"
  }
 },
 "nbformat": 4,
 "nbformat_minor": 5
}
