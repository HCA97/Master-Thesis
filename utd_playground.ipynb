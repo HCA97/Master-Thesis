{
 "cells": [
  {
   "cell_type": "code",
   "execution_count": 1,
   "id": "224c8e93",
   "metadata": {},
   "outputs": [],
   "source": [
    "import matplotlib.pyplot as plt\n",
    "import numpy as np\n",
    "import torch as th\n",
    "from torchvision import transforms\n",
    "import torchvision\n",
    "from torch.utils.data import DataLoader\n",
    "from sklearn.decomposition import PCA\n",
    "from scripts import *"
   ]
  },
  {
   "cell_type": "code",
   "execution_count": 8,
   "id": "22f925a9",
   "metadata": {},
   "outputs": [],
   "source": [
    "img_dim = (3, 32, 64)\n",
    "data_dir1 = \"../potsdam_data/potsdam_cars_all\"\n",
    "data_dir2 = \"../potsdam_data/artificial_cars\"\n",
    "\n",
    "transform1 = transforms.Compose([transforms.Resize(img_dim[1:]),\n",
    "                                transforms.ToTensor(),\n",
    "                                transforms.RandomHorizontalFlip(p=0.5),\n",
    "                                transforms.RandomVerticalFlip(p=0.5),\n",
    "                                transforms.ColorJitter(hue=[-0.1, 0.1]),\n",
    "                                transforms.Normalize([0.5], [0.5])])\n",
    "transform2 = transforms.Compose([transforms.Resize(img_dim[1:]),\n",
    "                                 transforms.ToTensor(),\n",
    "                                 transforms.RandomHorizontalFlip(p=0.5),\n",
    "                                 transforms.RandomVerticalFlip(p=0.5),\n",
    "                                 transforms.Normalize([0.5], [0.5])])\n",
    "\n",
    "potsdam = PostdamCarsDataModule(\n",
    "    data_dir1, img_size=img_dim[1:], batch_size=5000,\n",
    "    data_dir2=data_dir2, transform=transform1, transform2=transform2)\n",
    "potsdam.setup()\n",
    "data = potsdam.train_dataloader()\n",
    "real, fake = next(iter(data))"
   ]
  },
  {
   "cell_type": "code",
   "execution_count": 69,
   "id": "5614bf8a",
   "metadata": {},
   "outputs": [
    {
     "data": {
      "text/plain": [
       "(5000,)"
      ]
     },
     "execution_count": 69,
     "metadata": {},
     "output_type": "execute_result"
    }
   ],
   "source": [
    "real_numpy.mean(axis=1).shape"
   ]
  },
  {
   "cell_type": "code",
   "execution_count": 70,
   "id": "f10a8291",
   "metadata": {},
   "outputs": [],
   "source": [
    "real_numpy = real.cpu().numpy().reshape(len(real), -1)\n",
    "fake_numpy = fake.cpu().numpy().reshape(len(real), -1)\n",
    "\n",
    "real_mean = real_numpy.mean(axis=0)\n",
    "fake_mean = fake_numpy.mean(axis=0)\n",
    "\n",
    "real_numpy -= real_numpy.mean(axis=0)\n",
    "fake_numpy -= fake_numpy.mean(axis=0)"
   ]
  },
  {
   "cell_type": "code",
   "execution_count": 71,
   "id": "7bb0378d",
   "metadata": {},
   "outputs": [],
   "source": [
    "pca_real = PCA(500).fit(real_numpy)\n",
    "pca_fake = PCA(500).fit(fake_numpy)"
   ]
  },
  {
   "cell_type": "code",
   "execution_count": 72,
   "id": "f6ad27f0",
   "metadata": {},
   "outputs": [],
   "source": [
    "z_real = pca_real.transform(real_numpy)\n",
    "z_fake = pca_fake.transform(fake_numpy)"
   ]
  },
  {
   "cell_type": "code",
   "execution_count": 73,
   "id": "db42288a",
   "metadata": {},
   "outputs": [],
   "source": [
    "Q = np.eye(500)"
   ]
  },
  {
   "cell_type": "code",
   "execution_count": 143,
   "id": "b02a8bb7",
   "metadata": {},
   "outputs": [
    {
     "name": "stderr",
     "output_type": "stream",
     "text": [
      "100%|██████████| 5000/5000 [01:00<00:00, 82.81it/s]\n"
     ]
    }
   ],
   "source": [
    "import tqdm \n",
    "\n",
    "for _ in range(1):\n",
    "    A = []\n",
    "    B = []\n",
    "    \n",
    "    for i in tqdm.tqdm(range(len(z_real))):\n",
    "        j = np.argmin(np.linalg.norm(z_real[i].dot(Q) - z_fake, axis=1))\n",
    "        k = np.argmin(np.linalg.norm(z_real.dot(Q) - z_fake[j], axis=1))\n",
    "        if k == i:\n",
    "            A.append(z_real[i])\n",
    "            B.append(z_fake[j])\n",
    "    \n",
    "    A = np.array(A)\n",
    "    B = np.array(B)\n",
    "    \n",
    "    U, S, V = np.linalg.svd(A.T.dot(B))\n",
    "    Q = U.dot(V.T)\n",
    "    \n",
    "T = pca_real.components_.T.dot(Q).dot(pca_fake.components_)"
   ]
  },
  {
   "cell_type": "code",
   "execution_count": 141,
   "id": "179a51d9",
   "metadata": {},
   "outputs": [],
   "source": [
    "from sklearn.preprocessing import MinMaxScaler\n",
    "\n",
    "real_looking = fake_numpy.dot(T.T) + real_mean\n",
    "real_looking = MinMaxScaler().fit_transform(real_looking)"
   ]
  },
  {
   "cell_type": "code",
   "execution_count": 142,
   "id": "46e15c40",
   "metadata": {},
   "outputs": [
    {
     "data": {
      "text/plain": [
       "<matplotlib.image.AxesImage at 0x7f75e705b1f0>"
      ]
     },
     "execution_count": 142,
     "metadata": {},
     "output_type": "execute_result"
    },
    {
     "data": {
      "image/png": "[encoded data removed]",
      "text/plain": [
       "<Figure size 576x576 with 2 Axes>"
      ]
     },
     "metadata": {
      "needs_background": "light"
     },
     "output_type": "display_data"
    }
   ],
   "source": [
    "i = 22\n",
    "a = (real_looking[i].reshape(3, 32, 64).transpose(1, 2, 0) + 1) / 2\n",
    "b = (fake_numpy[i].reshape(3, 32, 64).transpose(1, 2, 0) + 1) / 2\n",
    "#b = (real_numpy[i].reshape(3, 32, 64).transpose(1, 2, 0) + 1) / 2\n",
    "\n",
    "plt.figure(figsize=(8, 8))\n",
    "plt.subplot(1, 2, 1)\n",
    "plt.imshow(a)\n",
    "plt.subplot(1, 2, 2)\n",
    "plt.imshow(b)"
   ]
  },
  {
   "cell_type": "code",
   "execution_count": null,
   "id": "ceeb70b0",
   "metadata": {},
   "outputs": [],
   "source": []
  }
 ],
 "metadata": {
  "kernelspec": {
   "display_name": "Python 3",
   "language": "python",
   "name": "python3"
  },
  "language_info": {
   "codemirror_mode": {
    "name": "ipython",
    "version": 3
   },
   "file_extension": ".py",
   "mimetype": "text/x-python",
   "name": "python",
   "nbconvert_exporter": "python",
   "pygments_lexer": "ipython3",
   "version": "3.8.10"
  }
 },
 "nbformat": 4,
 "nbformat_minor": 5
}
