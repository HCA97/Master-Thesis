{
 "cells": [
  {
   "cell_type": "code",
   "execution_count": 1,
   "id": "c38b7a43",
   "metadata": {},
   "outputs": [],
   "source": [
    "import matplotlib.pyplot as plt\n",
    "import numpy as np\n",
    "import torch as th\n",
    "from torchvision import transforms\n",
    "import torchvision\n",
    "from torch.utils.data import DataLoader\n",
    "from scripts import *\n"
   ]
  },
  {
   "cell_type": "code",
   "execution_count": 71,
   "id": "d460efe3",
   "metadata": {},
   "outputs": [],
   "source": [
    "#checkpoint = \"experiments/dcgan_resnet/lightning_logs/version_0/checkpoints/epoch=524.ckpt\"\n",
    "checkpoint = \"experiments/dcgan_disc_double_params_padding_reflect_lr_scheduler/lightning_logs/version_0/checkpoints/epoch=899.ckpt\"\n",
    "#checkpoint = \"experiments/dataaug_2/lightning_logs/version_2/checkpoints/epoch=449.ckpt\"\n",
    "#checkpoint = \"experiments/dcgan_disc_double_params_padding_reflect_lr_scheduler_slightly_larger/lightning_logs/version_0/checkpoints/epoch=949.ckpt\"\n",
    "\n",
    "potsdam_dir = \"../potsdam_data/potsdam_cars_all\""
   ]
  },
  {
   "cell_type": "code",
   "execution_count": 72,
   "id": "4e25da3b",
   "metadata": {},
   "outputs": [
    {
     "data": {
      "text/plain": [
       "GAN(\n",
       "  (generator): BasicGenerator(\n",
       "    (l1): Linear(in_features=100, out_features=4096, bias=True)\n",
       "    (conv_blocks): Sequential(\n",
       "      (0): BatchNorm2d(512, eps=1e-05, momentum=0.1, affine=True, track_running_stats=True)\n",
       "      (1): Upsample(scale_factor=2.0, mode=nearest)\n",
       "      (2): ConvBlock(\n",
       "        (conv_block): ModuleList(\n",
       "          (0): Conv2d(512, 512, kernel_size=(3, 3), stride=(1, 1), padding=(1, 1), bias=False, padding_mode=reflect)\n",
       "          (1): BatchNorm2d(512, eps=1e-05, momentum=0.1, affine=True, track_running_stats=True)\n",
       "          (2): LeakyReLU(negative_slope=0.2, inplace=True)\n",
       "        )\n",
       "      )\n",
       "      (3): Upsample(scale_factor=2.0, mode=nearest)\n",
       "      (4): ConvBlock(\n",
       "        (conv_block): ModuleList(\n",
       "          (0): Conv2d(512, 256, kernel_size=(3, 3), stride=(1, 1), padding=(1, 1), bias=False, padding_mode=reflect)\n",
       "          (1): BatchNorm2d(256, eps=1e-05, momentum=0.1, affine=True, track_running_stats=True)\n",
       "          (2): LeakyReLU(negative_slope=0.2, inplace=True)\n",
       "        )\n",
       "      )\n",
       "      (5): Upsample(scale_factor=2.0, mode=nearest)\n",
       "      (6): ConvBlock(\n",
       "        (conv_block): ModuleList(\n",
       "          (0): Conv2d(256, 128, kernel_size=(3, 3), stride=(1, 1), padding=(1, 1), bias=False, padding_mode=reflect)\n",
       "          (1): BatchNorm2d(128, eps=1e-05, momentum=0.1, affine=True, track_running_stats=True)\n",
       "          (2): LeakyReLU(negative_slope=0.2, inplace=True)\n",
       "        )\n",
       "      )\n",
       "      (7): Upsample(scale_factor=2.0, mode=nearest)\n",
       "      (8): ConvBlock(\n",
       "        (conv_block): ModuleList(\n",
       "          (0): Conv2d(128, 64, kernel_size=(3, 3), stride=(1, 1), padding=(1, 1), bias=False, padding_mode=reflect)\n",
       "          (1): BatchNorm2d(64, eps=1e-05, momentum=0.1, affine=True, track_running_stats=True)\n",
       "          (2): LeakyReLU(negative_slope=0.2, inplace=True)\n",
       "        )\n",
       "      )\n",
       "      (9): ConvBlock(\n",
       "        (conv_block): ModuleList(\n",
       "          (0): Conv2d(64, 3, kernel_size=(3, 3), stride=(1, 1), padding=(1, 1), padding_mode=reflect)\n",
       "          (1): Tanh()\n",
       "        )\n",
       "      )\n",
       "    )\n",
       "  )\n",
       "  (discriminator): BasicDiscriminator(\n",
       "    (conv_blocks): Sequential(\n",
       "      (0): ConvBlock(\n",
       "        (conv_block): ModuleList(\n",
       "          (0): Conv2d(3, 64, kernel_size=(3, 3), stride=(2, 2), padding=(1, 1), padding_mode=reflect)\n",
       "          (1): LeakyReLU(negative_slope=0.2, inplace=True)\n",
       "          (2): Dropout2d(p=0.25, inplace=False)\n",
       "        )\n",
       "      )\n",
       "      (1): ConvBlock(\n",
       "        (conv_block): ModuleList(\n",
       "          (0): Conv2d(64, 128, kernel_size=(3, 3), stride=(2, 2), padding=(1, 1), bias=False, padding_mode=reflect)\n",
       "          (1): BatchNorm2d(128, eps=1e-05, momentum=0.1, affine=True, track_running_stats=True)\n",
       "          (2): LeakyReLU(negative_slope=0.2, inplace=True)\n",
       "          (3): Dropout2d(p=0.25, inplace=False)\n",
       "        )\n",
       "      )\n",
       "      (2): ConvBlock(\n",
       "        (conv_block): ModuleList(\n",
       "          (0): Conv2d(128, 256, kernel_size=(3, 3), stride=(2, 2), padding=(1, 1), bias=False, padding_mode=reflect)\n",
       "          (1): BatchNorm2d(256, eps=1e-05, momentum=0.1, affine=True, track_running_stats=True)\n",
       "          (2): LeakyReLU(negative_slope=0.2, inplace=True)\n",
       "          (3): Dropout2d(p=0.25, inplace=False)\n",
       "        )\n",
       "      )\n",
       "      (3): ConvBlock(\n",
       "        (conv_block): ModuleList(\n",
       "          (0): Conv2d(256, 512, kernel_size=(3, 3), stride=(2, 2), padding=(1, 1), bias=False, padding_mode=reflect)\n",
       "          (1): BatchNorm2d(512, eps=1e-05, momentum=0.1, affine=True, track_running_stats=True)\n",
       "          (2): LeakyReLU(negative_slope=0.2, inplace=True)\n",
       "          (3): Dropout2d(p=0.25, inplace=False)\n",
       "        )\n",
       "      )\n",
       "    )\n",
       "    (l1): Sequential(\n",
       "      (0): Linear(in_features=4096, out_features=1, bias=True)\n",
       "      (1): Sigmoid()\n",
       "    )\n",
       "  )\n",
       "  (criterion): BCELoss()\n",
       ")"
      ]
     },
     "execution_count": 72,
     "metadata": {},
     "output_type": "execute_result"
    }
   ],
   "source": [
    "model = GAN.load_from_checkpoint(checkpoint)\n",
    "model.eval()\n",
    "model.cuda()"
   ]
  },
  {
   "cell_type": "code",
   "execution_count": 73,
   "id": "be013d7c",
   "metadata": {},
   "outputs": [],
   "source": [
    "img_dim = model.hparams.img_dim[1:]\n",
    "hue = [-0.1, 0.1]\n",
    "contrast = [1, 1.25]\n",
    "brightness = [1, 2]\n",
    "data_augs = [\n",
    "    # no dat aug\n",
    "    transforms.Compose([transforms.Resize(img_dim),\n",
    "                        transforms.ToTensor(),\n",
    "                        transforms.Normalize([0.5], [0.5])]),\n",
    "    # horizontal flip only\n",
    "    transforms.Compose([transforms.Resize(img_dim),\n",
    "                        transforms.ToTensor(),\n",
    "                        transforms.RandomHorizontalFlip(p=0.5),\n",
    "                        transforms.RandomVerticalFlip(p=0.5),\n",
    "                        transforms.Normalize([0.5], [0.5])]),\n",
    "    # horizontal flip + hue\n",
    "    transforms.Compose([transforms.Resize(img_dim),\n",
    "                        transforms.ToTensor(),\n",
    "                        transforms.RandomHorizontalFlip(p=0.5),\n",
    "                        transforms.RandomVerticalFlip(p=0.5),\n",
    "                        transforms.ColorJitter(hue=hue),\n",
    "                        transforms.Normalize([0.5], [0.5])]),\n",
    "    # horizontal flip + hue + contrast\n",
    "    transforms.Compose([transforms.Resize(img_dim),\n",
    "                        transforms.ToTensor(),\n",
    "                        transforms.RandomHorizontalFlip(p=0.5),\n",
    "                        transforms.RandomVerticalFlip(p=0.5),\n",
    "                        transforms.ColorJitter(hue=hue, contrast=contrast),\n",
    "                        transforms.Normalize([0.5], [0.5])]),\n",
    "    # horizontal flip + hue + contrast + brightness\n",
    "    transforms.Compose([transforms.Resize(img_dim),\n",
    "                        transforms.ToTensor(),\n",
    "                        transforms.RandomHorizontalFlip(p=0.5),\n",
    "                        transforms.RandomVerticalFlip(p=0.5),\n",
    "                        transforms.ColorJitter(\n",
    "                            hue=hue, brightness=brightness, contrast=contrast),\n",
    "                        transforms.Normalize([0.5], [0.5])]),\n",
    "]"
   ]
  },
  {
   "cell_type": "code",
   "execution_count": 74,
   "id": "b7df4e5a",
   "metadata": {},
   "outputs": [],
   "source": [
    "# data loaders\n",
    "i = 0\n",
    "dataset = ImageFolder(potsdam_dir, transform=data_augs[i])\n",
    "potsdam_cars_dataloader = DataLoader(dataset, batch_size=4300, shuffle=True, num_workers=4)"
   ]
  },
  {
   "cell_type": "code",
   "execution_count": 75,
   "id": "27475989",
   "metadata": {},
   "outputs": [],
   "source": [
    "real,_ = next(iter(potsdam_cars_dataloader))\n",
    "act1 = np.squeeze(vgg16_get_activation_maps(\n",
    "                real, layer_idx=33, device=\"cuda:0\", normalize_range=(-1, 1)).numpy())"
   ]
  },
  {
   "cell_type": "code",
   "execution_count": 80,
   "id": "853a2c73",
   "metadata": {},
   "outputs": [],
   "source": [
    "n_samples = 4*1024\n",
    "bs = 64\n",
    "truncation = 1\n",
    "gen_in = th.normal(0, truncation, size=(\n",
    "                            n_samples, model.generator.latent_dim), device=model.device)\n",
    "\n",
    "# fake imgs need to do it in batches for memory stuff\n",
    "fake = []\n",
    "for i in range(n_samples // bs):\n",
    "    si = i * bs\n",
    "    ei = min((i+1)*bs, n_samples)\n",
    "    fake.append(\n",
    "        model(gen_in[si:ei]).detach().cpu().clone())\n",
    "fake = th.cat(fake, dim=0) \n",
    "\n",
    "act2 = np.squeeze(vgg16_get_activation_maps(\n",
    "                fake, layer_idx=33, device=\"cuda:0\", normalize_range=(-1, 1)).numpy())"
   ]
  },
  {
   "cell_type": "code",
   "execution_count": 81,
   "id": "17cb8818",
   "metadata": {},
   "outputs": [
    {
     "data": {
      "text/plain": [
       "2.0171282"
      ]
     },
     "execution_count": 81,
     "metadata": {},
     "output_type": "execute_result"
    },
    {
     "data": {
      "image/png": "[encoded data removed]",
      "text/plain": [
       "<Figure size 576x576 with 2 Axes>"
      ]
     },
     "metadata": {
      "needs_background": "light"
     },
     "output_type": "display_data"
    }
   ],
   "source": [
    "real_mean = (real.mean(axis=0).detach().cpu().numpy().transpose(1, 2, 0) + 1) / 2\n",
    "fake_mean = (fake.mean(axis=0).detach().cpu().numpy().transpose(1, 2, 0) + 1) / 2\n",
    "\n",
    "plt.figure(figsize=(8,8))\n",
    "plt.subplot(2, 1, 1)\n",
    "plt.imshow(real_mean)\n",
    "plt.subplot(2, 1, 2)\n",
    "plt.imshow(fake_mean)\n",
    "plt.tight_layout()\n",
    "\n",
    "np.linalg.norm(real_mean - fake_mean)"
   ]
  },
  {
   "cell_type": "code",
   "execution_count": 22,
   "id": "8534fa3f",
   "metadata": {},
   "outputs": [
    {
     "data": {
      "image/png": "[encoded data removed]",
      "text/plain": [
       "<Figure size 432x288 with 1 Axes>"
      ]
     },
     "metadata": {
      "needs_background": "light"
     },
     "output_type": "display_data"
    }
   ],
   "source": [
    "# norms inverse, replace inf values with 0\n",
    "act1_norm = np.expand_dims(np.linalg.norm(act1, axis=1), 1)\n",
    "act2_norm = np.expand_dims(np.linalg.norm(act2, axis=1), 1)\n",
    "norms_inverse = 1 / (act2_norm.dot(act1_norm.T))\n",
    "\n",
    "norms_inverse[np.isinf(norms_inverse)] = 0\n",
    "\n",
    "# cos distance between two activations\n",
    "cos_distances = (1 - norms_inverse*act2.dot(act1.T))\n",
    "cos_distance = cos_distances.min(axis=1)  # min for each row\n",
    "d = np.mean(cos_distance)\n",
    "\n",
    "plt.hist(cos_distance)\n",
    "plt.show()"
   ]
  },
  {
   "cell_type": "code",
   "execution_count": 25,
   "id": "7feac5e6",
   "metadata": {},
   "outputs": [],
   "source": [
    "jj = np.random.choice(len(fake), 50, replace=False)\n",
    "#jj = np.argsort(cos_distance)[-50:]\n",
    "#jj = np.argsort(cos_distance)[:50]\n",
    "n = 10\n",
    "imgs = []\n",
    "for j in jj:\n",
    "    idx = np.argsort(cos_distances[j])\n",
    "    \n",
    "    imgs.append(fake[j])\n",
    "    for idx_ in idx[:n]:\n",
    "        imgs.append(real[idx_])\n",
    "        \n",
    "grid = torchvision.utils.make_grid(imgs, nrow=n+1, normalize=True)\n",
    "torchvision.utils.save_image(grid, \"dcgan_resnet_v0_random.png\")"
   ]
  },
  {
   "cell_type": "code",
   "execution_count": null,
   "id": "2b609436",
   "metadata": {},
   "outputs": [],
   "source": []
  }
 ],
 "metadata": {
  "kernelspec": {
   "display_name": "Python 3",
   "language": "python",
   "name": "python3"
  },
  "language_info": {
   "codemirror_mode": {
    "name": "ipython",
    "version": 3
   },
   "file_extension": ".py",
   "mimetype": "text/x-python",
   "name": "python",
   "nbconvert_exporter": "python",
   "pygments_lexer": "ipython3",
   "version": "3.8.12"
  }
 },
 "nbformat": 4,
 "nbformat_minor": 5
}
